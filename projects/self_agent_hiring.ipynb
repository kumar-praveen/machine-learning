{
 "cells": [
  {
   "cell_type": "code",
   "execution_count": 3,
   "metadata": {},
   "outputs": [
    {
     "data": {
      "text/plain": [
       "(8844, 19)"
      ]
     },
     "execution_count": 3,
     "metadata": {},
     "output_type": "execute_result"
    }
   ],
   "source": [
    "import pandas as pd\n",
    "import numpy as np\n",
    "import matplotlib.pyplot as plt\n",
    "\n",
    "data=pd.read_csv(r\"D:\\machine_learning\\Assignment\\Module 10 Assisgnment - Dataset+Solution\\Train.csv\")\n",
    "data.shape"
   ]
  },
  {
   "cell_type": "code",
   "execution_count": 4,
   "metadata": {},
   "outputs": [
    {
     "data": {
      "text/html": [
       "<div>\n",
       "<style scoped>\n",
       "    .dataframe tbody tr th:only-of-type {\n",
       "        vertical-align: middle;\n",
       "    }\n",
       "\n",
       "    .dataframe tbody tr th {\n",
       "        vertical-align: top;\n",
       "    }\n",
       "\n",
       "    .dataframe thead th {\n",
       "        text-align: right;\n",
       "    }\n",
       "</style>\n",
       "<table border=\"1\" class=\"dataframe\">\n",
       "  <thead>\n",
       "    <tr style=\"text-align: right;\">\n",
       "      <th></th>\n",
       "      <th>ID</th>\n",
       "      <th>Office_PIN</th>\n",
       "      <th>Applicant_City_PIN</th>\n",
       "      <th>Applicant_Gender</th>\n",
       "      <th>Applicant_Marital_Status</th>\n",
       "      <th>Applicant_Occupation</th>\n",
       "      <th>Applicant_Qualification</th>\n",
       "      <th>Manager_Joining_Designation</th>\n",
       "      <th>Manager_Current_Designation</th>\n",
       "      <th>Manager_Grade</th>\n",
       "      <th>Manager_Status</th>\n",
       "      <th>Manager_Gender</th>\n",
       "      <th>Manager_Num_Application</th>\n",
       "      <th>Manager_Num_Coded</th>\n",
       "      <th>Manager_Business</th>\n",
       "      <th>Manager_Num_Products</th>\n",
       "      <th>Manager_Business2</th>\n",
       "      <th>Manager_Num_Products2</th>\n",
       "      <th>Business_Sourced</th>\n",
       "    </tr>\n",
       "  </thead>\n",
       "  <tbody>\n",
       "    <tr>\n",
       "      <th>0</th>\n",
       "      <td>FIN1000001</td>\n",
       "      <td>842001</td>\n",
       "      <td>844120</td>\n",
       "      <td>M</td>\n",
       "      <td>M</td>\n",
       "      <td>Others</td>\n",
       "      <td>Graduate</td>\n",
       "      <td>Level 1</td>\n",
       "      <td>Level 2</td>\n",
       "      <td>3.0</td>\n",
       "      <td>Confirmation</td>\n",
       "      <td>M</td>\n",
       "      <td>2.0</td>\n",
       "      <td>1.0</td>\n",
       "      <td>335249.0</td>\n",
       "      <td>28.0</td>\n",
       "      <td>335249.0</td>\n",
       "      <td>28.0</td>\n",
       "      <td>0</td>\n",
       "    </tr>\n",
       "    <tr>\n",
       "      <th>1</th>\n",
       "      <td>FIN1000002</td>\n",
       "      <td>842001</td>\n",
       "      <td>844111</td>\n",
       "      <td>M</td>\n",
       "      <td>S</td>\n",
       "      <td>Others</td>\n",
       "      <td>Class XII</td>\n",
       "      <td>Level 1</td>\n",
       "      <td>Level 2</td>\n",
       "      <td>3.0</td>\n",
       "      <td>Confirmation</td>\n",
       "      <td>M</td>\n",
       "      <td>2.0</td>\n",
       "      <td>1.0</td>\n",
       "      <td>335249.0</td>\n",
       "      <td>28.0</td>\n",
       "      <td>335249.0</td>\n",
       "      <td>28.0</td>\n",
       "      <td>1</td>\n",
       "    </tr>\n",
       "    <tr>\n",
       "      <th>2</th>\n",
       "      <td>FIN1000003</td>\n",
       "      <td>800001</td>\n",
       "      <td>844101</td>\n",
       "      <td>M</td>\n",
       "      <td>M</td>\n",
       "      <td>Business</td>\n",
       "      <td>Class XII</td>\n",
       "      <td>Level 1</td>\n",
       "      <td>Level 1</td>\n",
       "      <td>2.0</td>\n",
       "      <td>Confirmation</td>\n",
       "      <td>M</td>\n",
       "      <td>0.0</td>\n",
       "      <td>0.0</td>\n",
       "      <td>357184.0</td>\n",
       "      <td>24.0</td>\n",
       "      <td>357184.0</td>\n",
       "      <td>24.0</td>\n",
       "      <td>0</td>\n",
       "    </tr>\n",
       "    <tr>\n",
       "      <th>3</th>\n",
       "      <td>FIN1000004</td>\n",
       "      <td>814112</td>\n",
       "      <td>814112</td>\n",
       "      <td>M</td>\n",
       "      <td>S</td>\n",
       "      <td>Salaried</td>\n",
       "      <td>Class XII</td>\n",
       "      <td>Level 1</td>\n",
       "      <td>Level 3</td>\n",
       "      <td>4.0</td>\n",
       "      <td>Confirmation</td>\n",
       "      <td>F</td>\n",
       "      <td>0.0</td>\n",
       "      <td>0.0</td>\n",
       "      <td>318356.0</td>\n",
       "      <td>22.0</td>\n",
       "      <td>318356.0</td>\n",
       "      <td>22.0</td>\n",
       "      <td>0</td>\n",
       "    </tr>\n",
       "    <tr>\n",
       "      <th>4</th>\n",
       "      <td>FIN1000005</td>\n",
       "      <td>814112</td>\n",
       "      <td>815351</td>\n",
       "      <td>M</td>\n",
       "      <td>M</td>\n",
       "      <td>Others</td>\n",
       "      <td>Class XII</td>\n",
       "      <td>Level 1</td>\n",
       "      <td>Level 1</td>\n",
       "      <td>2.0</td>\n",
       "      <td>Confirmation</td>\n",
       "      <td>M</td>\n",
       "      <td>2.0</td>\n",
       "      <td>1.0</td>\n",
       "      <td>230402.0</td>\n",
       "      <td>17.0</td>\n",
       "      <td>230402.0</td>\n",
       "      <td>17.0</td>\n",
       "      <td>0</td>\n",
       "    </tr>\n",
       "  </tbody>\n",
       "</table>\n",
       "</div>"
      ],
      "text/plain": [
       "           ID  Office_PIN  Applicant_City_PIN Applicant_Gender  \\\n",
       "0  FIN1000001      842001              844120                M   \n",
       "1  FIN1000002      842001              844111                M   \n",
       "2  FIN1000003      800001              844101                M   \n",
       "3  FIN1000004      814112              814112                M   \n",
       "4  FIN1000005      814112              815351                M   \n",
       "\n",
       "  Applicant_Marital_Status Applicant_Occupation Applicant_Qualification  \\\n",
       "0                        M               Others                Graduate   \n",
       "1                        S               Others               Class XII   \n",
       "2                        M             Business               Class XII   \n",
       "3                        S             Salaried               Class XII   \n",
       "4                        M               Others               Class XII   \n",
       "\n",
       "  Manager_Joining_Designation Manager_Current_Designation  Manager_Grade  \\\n",
       "0                     Level 1                     Level 2            3.0   \n",
       "1                     Level 1                     Level 2            3.0   \n",
       "2                     Level 1                     Level 1            2.0   \n",
       "3                     Level 1                     Level 3            4.0   \n",
       "4                     Level 1                     Level 1            2.0   \n",
       "\n",
       "  Manager_Status Manager_Gender  Manager_Num_Application  Manager_Num_Coded  \\\n",
       "0   Confirmation              M                      2.0                1.0   \n",
       "1   Confirmation              M                      2.0                1.0   \n",
       "2   Confirmation              M                      0.0                0.0   \n",
       "3   Confirmation              F                      0.0                0.0   \n",
       "4   Confirmation              M                      2.0                1.0   \n",
       "\n",
       "   Manager_Business  Manager_Num_Products  Manager_Business2  \\\n",
       "0          335249.0                  28.0           335249.0   \n",
       "1          335249.0                  28.0           335249.0   \n",
       "2          357184.0                  24.0           357184.0   \n",
       "3          318356.0                  22.0           318356.0   \n",
       "4          230402.0                  17.0           230402.0   \n",
       "\n",
       "   Manager_Num_Products2  Business_Sourced  \n",
       "0                   28.0                 0  \n",
       "1                   28.0                 1  \n",
       "2                   24.0                 0  \n",
       "3                   22.0                 0  \n",
       "4                   17.0                 0  "
      ]
     },
     "execution_count": 4,
     "metadata": {},
     "output_type": "execute_result"
    }
   ],
   "source": [
    "data.head()"
   ]
  },
  {
   "cell_type": "code",
   "execution_count": 5,
   "metadata": {},
   "outputs": [
    {
     "data": {
      "text/html": [
       "<div>\n",
       "<style scoped>\n",
       "    .dataframe tbody tr th:only-of-type {\n",
       "        vertical-align: middle;\n",
       "    }\n",
       "\n",
       "    .dataframe tbody tr th {\n",
       "        vertical-align: top;\n",
       "    }\n",
       "\n",
       "    .dataframe thead th {\n",
       "        text-align: right;\n",
       "    }\n",
       "</style>\n",
       "<table border=\"1\" class=\"dataframe\">\n",
       "  <thead>\n",
       "    <tr style=\"text-align: right;\">\n",
       "      <th></th>\n",
       "      <th>ID</th>\n",
       "      <th>Office_PIN</th>\n",
       "      <th>Applicant_City_PIN</th>\n",
       "      <th>Applicant_Gender</th>\n",
       "      <th>Applicant_Marital_Status</th>\n",
       "      <th>Applicant_Occupation</th>\n",
       "      <th>Applicant_Qualification</th>\n",
       "      <th>Manager_Joining_Designation</th>\n",
       "      <th>Manager_Current_Designation</th>\n",
       "      <th>Manager_Grade</th>\n",
       "      <th>Manager_Status</th>\n",
       "      <th>Manager_Gender</th>\n",
       "      <th>Manager_Num_Application</th>\n",
       "      <th>Manager_Num_Coded</th>\n",
       "      <th>Manager_Business</th>\n",
       "      <th>Manager_Num_Products</th>\n",
       "      <th>Manager_Business2</th>\n",
       "      <th>Manager_Num_Products2</th>\n",
       "      <th>Business_Sourced</th>\n",
       "    </tr>\n",
       "  </thead>\n",
       "  <tbody>\n",
       "    <tr>\n",
       "      <th>count</th>\n",
       "      <td>8844</td>\n",
       "      <td>8844.000000</td>\n",
       "      <td>8844.000000</td>\n",
       "      <td>8791</td>\n",
       "      <td>8785</td>\n",
       "      <td>7754</td>\n",
       "      <td>8773</td>\n",
       "      <td>8844</td>\n",
       "      <td>8844</td>\n",
       "      <td>8844.000000</td>\n",
       "      <td>8844</td>\n",
       "      <td>8844</td>\n",
       "      <td>8844.000000</td>\n",
       "      <td>8844.000000</td>\n",
       "      <td>8.844000e+03</td>\n",
       "      <td>8844.000000</td>\n",
       "      <td>8.844000e+03</td>\n",
       "      <td>8844.000000</td>\n",
       "      <td>8844.000000</td>\n",
       "    </tr>\n",
       "    <tr>\n",
       "      <th>unique</th>\n",
       "      <td>8844</td>\n",
       "      <td>NaN</td>\n",
       "      <td>NaN</td>\n",
       "      <td>2</td>\n",
       "      <td>4</td>\n",
       "      <td>5</td>\n",
       "      <td>10</td>\n",
       "      <td>8</td>\n",
       "      <td>5</td>\n",
       "      <td>NaN</td>\n",
       "      <td>2</td>\n",
       "      <td>2</td>\n",
       "      <td>NaN</td>\n",
       "      <td>NaN</td>\n",
       "      <td>NaN</td>\n",
       "      <td>NaN</td>\n",
       "      <td>NaN</td>\n",
       "      <td>NaN</td>\n",
       "      <td>NaN</td>\n",
       "    </tr>\n",
       "    <tr>\n",
       "      <th>top</th>\n",
       "      <td>FIN1008104</td>\n",
       "      <td>NaN</td>\n",
       "      <td>NaN</td>\n",
       "      <td>M</td>\n",
       "      <td>M</td>\n",
       "      <td>Salaried</td>\n",
       "      <td>Class XII</td>\n",
       "      <td>Level 1</td>\n",
       "      <td>Level 2</td>\n",
       "      <td>NaN</td>\n",
       "      <td>Confirmation</td>\n",
       "      <td>M</td>\n",
       "      <td>NaN</td>\n",
       "      <td>NaN</td>\n",
       "      <td>NaN</td>\n",
       "      <td>NaN</td>\n",
       "      <td>NaN</td>\n",
       "      <td>NaN</td>\n",
       "      <td>NaN</td>\n",
       "    </tr>\n",
       "    <tr>\n",
       "      <th>freq</th>\n",
       "      <td>1</td>\n",
       "      <td>NaN</td>\n",
       "      <td>NaN</td>\n",
       "      <td>6656</td>\n",
       "      <td>5733</td>\n",
       "      <td>3546</td>\n",
       "      <td>5426</td>\n",
       "      <td>4632</td>\n",
       "      <td>3208</td>\n",
       "      <td>NaN</td>\n",
       "      <td>5277</td>\n",
       "      <td>7627</td>\n",
       "      <td>NaN</td>\n",
       "      <td>NaN</td>\n",
       "      <td>NaN</td>\n",
       "      <td>NaN</td>\n",
       "      <td>NaN</td>\n",
       "      <td>NaN</td>\n",
       "      <td>NaN</td>\n",
       "    </tr>\n",
       "    <tr>\n",
       "      <th>mean</th>\n",
       "      <td>NaN</td>\n",
       "      <td>450714.378562</td>\n",
       "      <td>452638.591022</td>\n",
       "      <td>NaN</td>\n",
       "      <td>NaN</td>\n",
       "      <td>NaN</td>\n",
       "      <td>NaN</td>\n",
       "      <td>NaN</td>\n",
       "      <td>NaN</td>\n",
       "      <td>3.264134</td>\n",
       "      <td>NaN</td>\n",
       "      <td>NaN</td>\n",
       "      <td>1.939733</td>\n",
       "      <td>0.758933</td>\n",
       "      <td>1.843710e+05</td>\n",
       "      <td>7.152307</td>\n",
       "      <td>1.829263e+05</td>\n",
       "      <td>7.131275</td>\n",
       "      <td>0.342718</td>\n",
       "    </tr>\n",
       "    <tr>\n",
       "      <th>std</th>\n",
       "      <td>NaN</td>\n",
       "      <td>234079.460837</td>\n",
       "      <td>238045.727919</td>\n",
       "      <td>NaN</td>\n",
       "      <td>NaN</td>\n",
       "      <td>NaN</td>\n",
       "      <td>NaN</td>\n",
       "      <td>NaN</td>\n",
       "      <td>NaN</td>\n",
       "      <td>1.137449</td>\n",
       "      <td>NaN</td>\n",
       "      <td>NaN</td>\n",
       "      <td>2.150529</td>\n",
       "      <td>1.188644</td>\n",
       "      <td>2.747163e+05</td>\n",
       "      <td>8.439351</td>\n",
       "      <td>2.718021e+05</td>\n",
       "      <td>8.423597</td>\n",
       "      <td>0.474645</td>\n",
       "    </tr>\n",
       "    <tr>\n",
       "      <th>min</th>\n",
       "      <td>NaN</td>\n",
       "      <td>110005.000000</td>\n",
       "      <td>110001.000000</td>\n",
       "      <td>NaN</td>\n",
       "      <td>NaN</td>\n",
       "      <td>NaN</td>\n",
       "      <td>NaN</td>\n",
       "      <td>NaN</td>\n",
       "      <td>NaN</td>\n",
       "      <td>1.000000</td>\n",
       "      <td>NaN</td>\n",
       "      <td>NaN</td>\n",
       "      <td>0.000000</td>\n",
       "      <td>0.000000</td>\n",
       "      <td>-2.652890e+05</td>\n",
       "      <td>0.000000</td>\n",
       "      <td>-2.652890e+05</td>\n",
       "      <td>0.000000</td>\n",
       "      <td>0.000000</td>\n",
       "    </tr>\n",
       "    <tr>\n",
       "      <th>25%</th>\n",
       "      <td>NaN</td>\n",
       "      <td>226001.000000</td>\n",
       "      <td>226002.000000</td>\n",
       "      <td>NaN</td>\n",
       "      <td>NaN</td>\n",
       "      <td>NaN</td>\n",
       "      <td>NaN</td>\n",
       "      <td>NaN</td>\n",
       "      <td>NaN</td>\n",
       "      <td>2.000000</td>\n",
       "      <td>NaN</td>\n",
       "      <td>NaN</td>\n",
       "      <td>0.000000</td>\n",
       "      <td>0.000000</td>\n",
       "      <td>0.000000e+00</td>\n",
       "      <td>0.000000</td>\n",
       "      <td>0.000000e+00</td>\n",
       "      <td>0.000000</td>\n",
       "      <td>0.000000</td>\n",
       "    </tr>\n",
       "    <tr>\n",
       "      <th>50%</th>\n",
       "      <td>NaN</td>\n",
       "      <td>416001.000000</td>\n",
       "      <td>422001.000000</td>\n",
       "      <td>NaN</td>\n",
       "      <td>NaN</td>\n",
       "      <td>NaN</td>\n",
       "      <td>NaN</td>\n",
       "      <td>NaN</td>\n",
       "      <td>NaN</td>\n",
       "      <td>3.000000</td>\n",
       "      <td>NaN</td>\n",
       "      <td>NaN</td>\n",
       "      <td>1.000000</td>\n",
       "      <td>0.000000</td>\n",
       "      <td>1.021780e+05</td>\n",
       "      <td>5.000000</td>\n",
       "      <td>1.017140e+05</td>\n",
       "      <td>5.000000</td>\n",
       "      <td>0.000000</td>\n",
       "    </tr>\n",
       "    <tr>\n",
       "      <th>75%</th>\n",
       "      <td>NaN</td>\n",
       "      <td>695014.000000</td>\n",
       "      <td>695009.000000</td>\n",
       "      <td>NaN</td>\n",
       "      <td>NaN</td>\n",
       "      <td>NaN</td>\n",
       "      <td>NaN</td>\n",
       "      <td>NaN</td>\n",
       "      <td>NaN</td>\n",
       "      <td>4.000000</td>\n",
       "      <td>NaN</td>\n",
       "      <td>NaN</td>\n",
       "      <td>3.000000</td>\n",
       "      <td>1.000000</td>\n",
       "      <td>2.471165e+05</td>\n",
       "      <td>11.000000</td>\n",
       "      <td>2.464612e+05</td>\n",
       "      <td>11.000000</td>\n",
       "      <td>1.000000</td>\n",
       "    </tr>\n",
       "    <tr>\n",
       "      <th>max</th>\n",
       "      <td>NaN</td>\n",
       "      <td>851101.000000</td>\n",
       "      <td>995657.000000</td>\n",
       "      <td>NaN</td>\n",
       "      <td>NaN</td>\n",
       "      <td>NaN</td>\n",
       "      <td>NaN</td>\n",
       "      <td>NaN</td>\n",
       "      <td>NaN</td>\n",
       "      <td>10.000000</td>\n",
       "      <td>NaN</td>\n",
       "      <td>NaN</td>\n",
       "      <td>22.000000</td>\n",
       "      <td>9.000000</td>\n",
       "      <td>3.578265e+06</td>\n",
       "      <td>101.000000</td>\n",
       "      <td>3.578265e+06</td>\n",
       "      <td>101.000000</td>\n",
       "      <td>1.000000</td>\n",
       "    </tr>\n",
       "  </tbody>\n",
       "</table>\n",
       "</div>"
      ],
      "text/plain": [
       "                ID     Office_PIN  Applicant_City_PIN Applicant_Gender  \\\n",
       "count         8844    8844.000000         8844.000000             8791   \n",
       "unique        8844            NaN                 NaN                2   \n",
       "top     FIN1008104            NaN                 NaN                M   \n",
       "freq             1            NaN                 NaN             6656   \n",
       "mean           NaN  450714.378562       452638.591022              NaN   \n",
       "std            NaN  234079.460837       238045.727919              NaN   \n",
       "min            NaN  110005.000000       110001.000000              NaN   \n",
       "25%            NaN  226001.000000       226002.000000              NaN   \n",
       "50%            NaN  416001.000000       422001.000000              NaN   \n",
       "75%            NaN  695014.000000       695009.000000              NaN   \n",
       "max            NaN  851101.000000       995657.000000              NaN   \n",
       "\n",
       "       Applicant_Marital_Status Applicant_Occupation Applicant_Qualification  \\\n",
       "count                      8785                 7754                    8773   \n",
       "unique                        4                    5                      10   \n",
       "top                           M             Salaried               Class XII   \n",
       "freq                       5733                 3546                    5426   \n",
       "mean                        NaN                  NaN                     NaN   \n",
       "std                         NaN                  NaN                     NaN   \n",
       "min                         NaN                  NaN                     NaN   \n",
       "25%                         NaN                  NaN                     NaN   \n",
       "50%                         NaN                  NaN                     NaN   \n",
       "75%                         NaN                  NaN                     NaN   \n",
       "max                         NaN                  NaN                     NaN   \n",
       "\n",
       "       Manager_Joining_Designation Manager_Current_Designation  Manager_Grade  \\\n",
       "count                         8844                        8844    8844.000000   \n",
       "unique                           8                           5            NaN   \n",
       "top                        Level 1                     Level 2            NaN   \n",
       "freq                          4632                        3208            NaN   \n",
       "mean                           NaN                         NaN       3.264134   \n",
       "std                            NaN                         NaN       1.137449   \n",
       "min                            NaN                         NaN       1.000000   \n",
       "25%                            NaN                         NaN       2.000000   \n",
       "50%                            NaN                         NaN       3.000000   \n",
       "75%                            NaN                         NaN       4.000000   \n",
       "max                            NaN                         NaN      10.000000   \n",
       "\n",
       "       Manager_Status Manager_Gender  Manager_Num_Application  \\\n",
       "count            8844           8844              8844.000000   \n",
       "unique              2              2                      NaN   \n",
       "top      Confirmation              M                      NaN   \n",
       "freq             5277           7627                      NaN   \n",
       "mean              NaN            NaN                 1.939733   \n",
       "std               NaN            NaN                 2.150529   \n",
       "min               NaN            NaN                 0.000000   \n",
       "25%               NaN            NaN                 0.000000   \n",
       "50%               NaN            NaN                 1.000000   \n",
       "75%               NaN            NaN                 3.000000   \n",
       "max               NaN            NaN                22.000000   \n",
       "\n",
       "        Manager_Num_Coded  Manager_Business  Manager_Num_Products  \\\n",
       "count         8844.000000      8.844000e+03           8844.000000   \n",
       "unique                NaN               NaN                   NaN   \n",
       "top                   NaN               NaN                   NaN   \n",
       "freq                  NaN               NaN                   NaN   \n",
       "mean             0.758933      1.843710e+05              7.152307   \n",
       "std              1.188644      2.747163e+05              8.439351   \n",
       "min              0.000000     -2.652890e+05              0.000000   \n",
       "25%              0.000000      0.000000e+00              0.000000   \n",
       "50%              0.000000      1.021780e+05              5.000000   \n",
       "75%              1.000000      2.471165e+05             11.000000   \n",
       "max              9.000000      3.578265e+06            101.000000   \n",
       "\n",
       "        Manager_Business2  Manager_Num_Products2  Business_Sourced  \n",
       "count        8.844000e+03            8844.000000       8844.000000  \n",
       "unique                NaN                    NaN               NaN  \n",
       "top                   NaN                    NaN               NaN  \n",
       "freq                  NaN                    NaN               NaN  \n",
       "mean         1.829263e+05               7.131275          0.342718  \n",
       "std          2.718021e+05               8.423597          0.474645  \n",
       "min         -2.652890e+05               0.000000          0.000000  \n",
       "25%          0.000000e+00               0.000000          0.000000  \n",
       "50%          1.017140e+05               5.000000          0.000000  \n",
       "75%          2.464612e+05              11.000000          1.000000  \n",
       "max          3.578265e+06             101.000000          1.000000  "
      ]
     },
     "execution_count": 5,
     "metadata": {},
     "output_type": "execute_result"
    }
   ],
   "source": [
    "data.describe(include=\"all\")"
   ]
  },
  {
   "cell_type": "markdown",
   "metadata": {},
   "source": [
    "## Imputing missing values"
   ]
  },
  {
   "cell_type": "code",
   "execution_count": 6,
   "metadata": {},
   "outputs": [
    {
     "data": {
      "text/plain": [
       "ID                                0\n",
       "Office_PIN                        0\n",
       "Applicant_City_PIN                0\n",
       "Applicant_Gender                 53\n",
       "Applicant_Marital_Status         59\n",
       "Applicant_Occupation           1090\n",
       "Applicant_Qualification          71\n",
       "Manager_Joining_Designation       0\n",
       "Manager_Current_Designation       0\n",
       "Manager_Grade                     0\n",
       "Manager_Status                    0\n",
       "Manager_Gender                    0\n",
       "Manager_Num_Application           0\n",
       "Manager_Num_Coded                 0\n",
       "Manager_Business                  0\n",
       "Manager_Num_Products              0\n",
       "Manager_Business2                 0\n",
       "Manager_Num_Products2             0\n",
       "Business_Sourced                  0\n",
       "dtype: int64"
      ]
     },
     "execution_count": 6,
     "metadata": {},
     "output_type": "execute_result"
    }
   ],
   "source": [
    "data.isnull().sum()"
   ]
  },
  {
   "cell_type": "code",
   "execution_count": 7,
   "metadata": {},
   "outputs": [],
   "source": [
    "temp=data[[\"Applicant_Gender\",\"Applicant_Marital_Status\",\"Applicant_Occupation\",\"Applicant_Qualification\"]]"
   ]
  },
  {
   "cell_type": "code",
   "execution_count": 8,
   "metadata": {},
   "outputs": [
    {
     "data": {
      "text/html": [
       "<div>\n",
       "<style scoped>\n",
       "    .dataframe tbody tr th:only-of-type {\n",
       "        vertical-align: middle;\n",
       "    }\n",
       "\n",
       "    .dataframe tbody tr th {\n",
       "        vertical-align: top;\n",
       "    }\n",
       "\n",
       "    .dataframe thead th {\n",
       "        text-align: right;\n",
       "    }\n",
       "</style>\n",
       "<table border=\"1\" class=\"dataframe\">\n",
       "  <thead>\n",
       "    <tr style=\"text-align: right;\">\n",
       "      <th></th>\n",
       "      <th>Applicant_Gender</th>\n",
       "      <th>Applicant_Marital_Status</th>\n",
       "      <th>Applicant_Occupation</th>\n",
       "      <th>Applicant_Qualification</th>\n",
       "    </tr>\n",
       "  </thead>\n",
       "  <tbody>\n",
       "    <tr>\n",
       "      <th>0</th>\n",
       "      <td>M</td>\n",
       "      <td>M</td>\n",
       "      <td>Others</td>\n",
       "      <td>Graduate</td>\n",
       "    </tr>\n",
       "    <tr>\n",
       "      <th>1</th>\n",
       "      <td>M</td>\n",
       "      <td>S</td>\n",
       "      <td>Others</td>\n",
       "      <td>Class XII</td>\n",
       "    </tr>\n",
       "    <tr>\n",
       "      <th>2</th>\n",
       "      <td>M</td>\n",
       "      <td>M</td>\n",
       "      <td>Business</td>\n",
       "      <td>Class XII</td>\n",
       "    </tr>\n",
       "    <tr>\n",
       "      <th>3</th>\n",
       "      <td>M</td>\n",
       "      <td>S</td>\n",
       "      <td>Salaried</td>\n",
       "      <td>Class XII</td>\n",
       "    </tr>\n",
       "    <tr>\n",
       "      <th>4</th>\n",
       "      <td>M</td>\n",
       "      <td>M</td>\n",
       "      <td>Others</td>\n",
       "      <td>Class XII</td>\n",
       "    </tr>\n",
       "  </tbody>\n",
       "</table>\n",
       "</div>"
      ],
      "text/plain": [
       "  Applicant_Gender Applicant_Marital_Status Applicant_Occupation  \\\n",
       "0                M                        M               Others   \n",
       "1                M                        S               Others   \n",
       "2                M                        M             Business   \n",
       "3                M                        S             Salaried   \n",
       "4                M                        M               Others   \n",
       "\n",
       "  Applicant_Qualification  \n",
       "0                Graduate  \n",
       "1               Class XII  \n",
       "2               Class XII  \n",
       "3               Class XII  \n",
       "4               Class XII  "
      ]
     },
     "execution_count": 8,
     "metadata": {},
     "output_type": "execute_result"
    }
   ],
   "source": [
    "temp.head()"
   ]
  },
  {
   "cell_type": "markdown",
   "metadata": {},
   "source": [
    "#### Filling the mmissing values of  Applicant Gender"
   ]
  },
  {
   "cell_type": "code",
   "execution_count": 9,
   "metadata": {},
   "outputs": [
    {
     "data": {
      "text/plain": [
       "M    6656\n",
       "F    2135\n",
       "Name: Applicant_Gender, dtype: int64"
      ]
     },
     "execution_count": 9,
     "metadata": {},
     "output_type": "execute_result"
    }
   ],
   "source": [
    "data[\"Applicant_Gender\"].value_counts()"
   ]
  },
  {
   "cell_type": "code",
   "execution_count": 10,
   "metadata": {},
   "outputs": [],
   "source": [
    "data[\"Applicant_Gender\"].fillna(\"M\",inplace=True)"
   ]
  },
  {
   "cell_type": "markdown",
   "metadata": {},
   "source": [
    "#### Filling the missing values of Applicant Marital status"
   ]
  },
  {
   "cell_type": "code",
   "execution_count": 11,
   "metadata": {},
   "outputs": [
    {
     "data": {
      "text/plain": [
       "M    5733\n",
       "S    3042\n",
       "W       6\n",
       "D       4\n",
       "Name: Applicant_Marital_Status, dtype: int64"
      ]
     },
     "execution_count": 11,
     "metadata": {},
     "output_type": "execute_result"
    }
   ],
   "source": [
    "data[\"Applicant_Marital_Status\"].value_counts()"
   ]
  },
  {
   "cell_type": "code",
   "execution_count": 12,
   "metadata": {},
   "outputs": [],
   "source": [
    "data[\"Applicant_Marital_Status\"].fillna(\"M\",inplace=True)"
   ]
  },
  {
   "cell_type": "markdown",
   "metadata": {},
   "source": [
    "#### Filling the Applicant Occupation "
   ]
  },
  {
   "cell_type": "code",
   "execution_count": 13,
   "metadata": {},
   "outputs": [
    {
     "data": {
      "text/plain": [
       "Salaried         3546\n",
       "Business         2157\n",
       "Others           1809\n",
       "Self Employed     146\n",
       "Student            96\n",
       "Name: Applicant_Occupation, dtype: int64"
      ]
     },
     "execution_count": 13,
     "metadata": {},
     "output_type": "execute_result"
    }
   ],
   "source": [
    "data[\"Applicant_Occupation\"].value_counts()"
   ]
  },
  {
   "cell_type": "code",
   "execution_count": 14,
   "metadata": {},
   "outputs": [],
   "source": [
    "data[\"Applicant_Occupation\"].fillna(\"Salaried\",inplace=True)"
   ]
  },
  {
   "cell_type": "code",
   "execution_count": 15,
   "metadata": {
    "scrolled": true
   },
   "outputs": [
    {
     "data": {
      "text/plain": [
       "Class XII                                                           5426\n",
       "Graduate                                                            2958\n",
       "Class X                                                              195\n",
       "Others                                                               116\n",
       "Masters of Business Administration                                    71\n",
       "Associate / Fellow of Institute of Chartered Accountans of India       3\n",
       "Associate/Fellow of Institute of Company Secretories of India          1\n",
       "Associate/Fellow of Insurance Institute of India                       1\n",
       "Professional Qualification in Marketing                                1\n",
       "Associate/Fellow of Acturial Society of India                          1\n",
       "Name: Applicant_Qualification, dtype: int64"
      ]
     },
     "execution_count": 15,
     "metadata": {},
     "output_type": "execute_result"
    }
   ],
   "source": [
    "data[\"Applicant_Qualification\"].value_counts()"
   ]
  },
  {
   "cell_type": "code",
   "execution_count": 16,
   "metadata": {},
   "outputs": [],
   "source": [
    "data[\"Applicant_Qualification\"].fillna(\"Class XII\",inplace=True)"
   ]
  },
  {
   "cell_type": "code",
   "execution_count": 17,
   "metadata": {},
   "outputs": [
    {
     "data": {
      "text/plain": [
       "ID                             0\n",
       "Office_PIN                     0\n",
       "Applicant_City_PIN             0\n",
       "Applicant_Gender               0\n",
       "Applicant_Marital_Status       0\n",
       "Applicant_Occupation           0\n",
       "Applicant_Qualification        0\n",
       "Manager_Joining_Designation    0\n",
       "Manager_Current_Designation    0\n",
       "Manager_Grade                  0\n",
       "Manager_Status                 0\n",
       "Manager_Gender                 0\n",
       "Manager_Num_Application        0\n",
       "Manager_Num_Coded              0\n",
       "Manager_Business               0\n",
       "Manager_Num_Products           0\n",
       "Manager_Business2              0\n",
       "Manager_Num_Products2          0\n",
       "Business_Sourced               0\n",
       "dtype: int64"
      ]
     },
     "execution_count": 17,
     "metadata": {},
     "output_type": "execute_result"
    }
   ],
   "source": [
    "data.isnull().sum()"
   ]
  },
  {
   "cell_type": "markdown",
   "metadata": {},
   "source": [
    "## Dealing with categorical variables"
   ]
  },
  {
   "cell_type": "code",
   "execution_count": 19,
   "metadata": {},
   "outputs": [
    {
     "data": {
      "text/plain": [
       "ID                              object\n",
       "Office_PIN                       int64\n",
       "Applicant_City_PIN               int64\n",
       "Applicant_Gender                object\n",
       "Applicant_Marital_Status        object\n",
       "Applicant_Occupation            object\n",
       "Applicant_Qualification         object\n",
       "Manager_Joining_Designation     object\n",
       "Manager_Current_Designation     object\n",
       "Manager_Grade                  float64\n",
       "Manager_Status                  object\n",
       "Manager_Gender                  object\n",
       "Manager_Num_Application        float64\n",
       "Manager_Num_Coded              float64\n",
       "Manager_Business               float64\n",
       "Manager_Num_Products           float64\n",
       "Manager_Business2              float64\n",
       "Manager_Num_Products2          float64\n",
       "Business_Sourced                 int64\n",
       "dtype: object"
      ]
     },
     "execution_count": 19,
     "metadata": {},
     "output_type": "execute_result"
    }
   ],
   "source": [
    "data.dtypes"
   ]
  },
  {
   "cell_type": "code",
   "execution_count": 31,
   "metadata": {},
   "outputs": [
    {
     "data": {
      "text/plain": [
       "Index(['ID', 'Office_PIN', 'Applicant_City_PIN', 'Applicant_Gender',\n",
       "       'Applicant_Marital_Status', 'Applicant_Occupation',\n",
       "       'Applicant_Qualification', 'Manager_Joining_Designation',\n",
       "       'Manager_Current_Designation', 'Manager_Grade', 'Manager_Status',\n",
       "       'Manager_Gender', 'Manager_Num_Application', 'Manager_Num_Coded',\n",
       "       'Manager_Business', 'Manager_Num_Products', 'Manager_Business2',\n",
       "       'Manager_Num_Products2', 'Business_Sourced'],\n",
       "      dtype='object')"
      ]
     },
     "execution_count": 31,
     "metadata": {},
     "output_type": "execute_result"
    }
   ],
   "source": [
    "data.columns"
   ]
  },
  {
   "cell_type": "code",
   "execution_count": 32,
   "metadata": {},
   "outputs": [
    {
     "data": {
      "text/plain": [
       "['Applicant_Gender',\n",
       " 'Applicant_Marital_Status',\n",
       " 'Applicant_Occupation',\n",
       " 'Applicant_Qualification',\n",
       " 'Manager_Joining_Designation',\n",
       " 'Manager_Current_Designation',\n",
       " 'Manager_Status',\n",
       " 'Manager_Gender']"
      ]
     },
     "execution_count": 32,
     "metadata": {},
     "output_type": "execute_result"
    }
   ],
   "source": [
    "categorical_variable=[\"Applicant_Gender\",\"Applicant_Marital_Status\",\"Applicant_Occupation\",\"Applicant_Qualification\",\"Manager_Joining_Designation\",\n",
    "           \"Manager_Current_Designation\",\"Manager_Status\",\"Manager_Gender\"]\n",
    "\n",
    "categorical_variable"
   ]
  },
  {
   "cell_type": "code",
   "execution_count": 33,
   "metadata": {
    "scrolled": true
   },
   "outputs": [
    {
     "name": "stdout",
     "output_type": "stream",
     "text": [
      "Value Count in  Applicant_Gender\n",
      "M    6709\n",
      "F    2135\n",
      "Name: Applicant_Gender, dtype: int64\n",
      "\n",
      "\n",
      "Value Count in  Applicant_Marital_Status\n",
      "M    5792\n",
      "S    3042\n",
      "W       6\n",
      "D       4\n",
      "Name: Applicant_Marital_Status, dtype: int64\n",
      "\n",
      "\n",
      "Value Count in  Applicant_Occupation\n",
      "Salaried         4636\n",
      "Business         2157\n",
      "Others           1809\n",
      "Self Employed     146\n",
      "Student            96\n",
      "Name: Applicant_Occupation, dtype: int64\n",
      "\n",
      "\n",
      "Value Count in  Applicant_Qualification\n",
      "Class XII                             5497\n",
      "Graduate                              2965\n",
      "Class X                                195\n",
      "Others                                 116\n",
      "Masters of Business Administration      71\n",
      "Name: Applicant_Qualification, dtype: int64\n",
      "\n",
      "\n",
      "Value Count in  Manager_Joining_Designation\n",
      "Level 1    4632\n",
      "Level 2    2787\n",
      "Level 3    1146\n",
      "Level 4     200\n",
      "Other        58\n",
      "Level 6      18\n",
      "Level 7       2\n",
      "Level 5       1\n",
      "Name: Manager_Joining_Designation, dtype: int64\n",
      "\n",
      "\n",
      "Value Count in  Manager_Current_Designation\n",
      "Level 2    3208\n",
      "Level 1    2479\n",
      "Level 3    2033\n",
      "Level 4    1031\n",
      "Level 5      93\n",
      "Name: Manager_Current_Designation, dtype: int64\n",
      "\n",
      "\n",
      "Value Count in  Manager_Status\n",
      "Confirmation    5277\n",
      "Probation       3567\n",
      "Name: Manager_Status, dtype: int64\n",
      "\n",
      "\n",
      "Value Count in  Manager_Gender\n",
      "M    7627\n",
      "F    1217\n",
      "Name: Manager_Gender, dtype: int64\n",
      "\n",
      "\n"
     ]
    }
   ],
   "source": [
    "for i in categorical_variable:\n",
    "    print(\"Value Count in \",i)\n",
    "    print(data[i].value_counts())\n",
    "    print(\"\\n\")"
   ]
  },
  {
   "cell_type": "code",
   "execution_count": 35,
   "metadata": {},
   "outputs": [],
   "source": [
    "data[\"Applicant_Qualification\"].replace({\"Associate / Fellow of Institute of Chartered Accountans of India\":\"Graduate\",\n",
    "                                        \"Associate/Fellow of Institute of Company Secretories of India\":\"Graduate\",\n",
    "                                        \"Associate/Fellow of Insurance Institute of India\":\"Graduate\",\n",
    "                                        \"Professional Qualification in Marketing\":\"Graduate\",\n",
    "                                        \"Associate/Fellow of Acturial Society of India\":\"Graduate\"},inplace=True)"
   ]
  },
  {
   "cell_type": "code",
   "execution_count": null,
   "metadata": {},
   "outputs": [],
   "source": []
  },
  {
   "cell_type": "code",
   "execution_count": 38,
   "metadata": {},
   "outputs": [],
   "source": [
    "data.drop(\"ID\",axis=1,inplace=True)"
   ]
  },
  {
   "cell_type": "code",
   "execution_count": 39,
   "metadata": {},
   "outputs": [
    {
     "data": {
      "text/html": [
       "<div>\n",
       "<style scoped>\n",
       "    .dataframe tbody tr th:only-of-type {\n",
       "        vertical-align: middle;\n",
       "    }\n",
       "\n",
       "    .dataframe tbody tr th {\n",
       "        vertical-align: top;\n",
       "    }\n",
       "\n",
       "    .dataframe thead th {\n",
       "        text-align: right;\n",
       "    }\n",
       "</style>\n",
       "<table border=\"1\" class=\"dataframe\">\n",
       "  <thead>\n",
       "    <tr style=\"text-align: right;\">\n",
       "      <th></th>\n",
       "      <th>Office_PIN</th>\n",
       "      <th>Applicant_City_PIN</th>\n",
       "      <th>Applicant_Gender</th>\n",
       "      <th>Applicant_Marital_Status</th>\n",
       "      <th>Applicant_Occupation</th>\n",
       "      <th>Applicant_Qualification</th>\n",
       "      <th>Manager_Joining_Designation</th>\n",
       "      <th>Manager_Current_Designation</th>\n",
       "      <th>Manager_Grade</th>\n",
       "      <th>Manager_Status</th>\n",
       "      <th>Manager_Gender</th>\n",
       "      <th>Manager_Num_Application</th>\n",
       "      <th>Manager_Num_Coded</th>\n",
       "      <th>Manager_Business</th>\n",
       "      <th>Manager_Num_Products</th>\n",
       "      <th>Manager_Business2</th>\n",
       "      <th>Manager_Num_Products2</th>\n",
       "      <th>Business_Sourced</th>\n",
       "    </tr>\n",
       "  </thead>\n",
       "  <tbody>\n",
       "    <tr>\n",
       "      <th>0</th>\n",
       "      <td>842001</td>\n",
       "      <td>844120</td>\n",
       "      <td>M</td>\n",
       "      <td>M</td>\n",
       "      <td>Others</td>\n",
       "      <td>Graduate</td>\n",
       "      <td>Level 1</td>\n",
       "      <td>Level 2</td>\n",
       "      <td>3.0</td>\n",
       "      <td>Confirmation</td>\n",
       "      <td>M</td>\n",
       "      <td>2.0</td>\n",
       "      <td>1.0</td>\n",
       "      <td>335249.0</td>\n",
       "      <td>28.0</td>\n",
       "      <td>335249.0</td>\n",
       "      <td>28.0</td>\n",
       "      <td>0</td>\n",
       "    </tr>\n",
       "    <tr>\n",
       "      <th>1</th>\n",
       "      <td>842001</td>\n",
       "      <td>844111</td>\n",
       "      <td>M</td>\n",
       "      <td>S</td>\n",
       "      <td>Others</td>\n",
       "      <td>Class XII</td>\n",
       "      <td>Level 1</td>\n",
       "      <td>Level 2</td>\n",
       "      <td>3.0</td>\n",
       "      <td>Confirmation</td>\n",
       "      <td>M</td>\n",
       "      <td>2.0</td>\n",
       "      <td>1.0</td>\n",
       "      <td>335249.0</td>\n",
       "      <td>28.0</td>\n",
       "      <td>335249.0</td>\n",
       "      <td>28.0</td>\n",
       "      <td>1</td>\n",
       "    </tr>\n",
       "    <tr>\n",
       "      <th>2</th>\n",
       "      <td>800001</td>\n",
       "      <td>844101</td>\n",
       "      <td>M</td>\n",
       "      <td>M</td>\n",
       "      <td>Business</td>\n",
       "      <td>Class XII</td>\n",
       "      <td>Level 1</td>\n",
       "      <td>Level 1</td>\n",
       "      <td>2.0</td>\n",
       "      <td>Confirmation</td>\n",
       "      <td>M</td>\n",
       "      <td>0.0</td>\n",
       "      <td>0.0</td>\n",
       "      <td>357184.0</td>\n",
       "      <td>24.0</td>\n",
       "      <td>357184.0</td>\n",
       "      <td>24.0</td>\n",
       "      <td>0</td>\n",
       "    </tr>\n",
       "    <tr>\n",
       "      <th>3</th>\n",
       "      <td>814112</td>\n",
       "      <td>814112</td>\n",
       "      <td>M</td>\n",
       "      <td>S</td>\n",
       "      <td>Salaried</td>\n",
       "      <td>Class XII</td>\n",
       "      <td>Level 1</td>\n",
       "      <td>Level 3</td>\n",
       "      <td>4.0</td>\n",
       "      <td>Confirmation</td>\n",
       "      <td>F</td>\n",
       "      <td>0.0</td>\n",
       "      <td>0.0</td>\n",
       "      <td>318356.0</td>\n",
       "      <td>22.0</td>\n",
       "      <td>318356.0</td>\n",
       "      <td>22.0</td>\n",
       "      <td>0</td>\n",
       "    </tr>\n",
       "    <tr>\n",
       "      <th>4</th>\n",
       "      <td>814112</td>\n",
       "      <td>815351</td>\n",
       "      <td>M</td>\n",
       "      <td>M</td>\n",
       "      <td>Others</td>\n",
       "      <td>Class XII</td>\n",
       "      <td>Level 1</td>\n",
       "      <td>Level 1</td>\n",
       "      <td>2.0</td>\n",
       "      <td>Confirmation</td>\n",
       "      <td>M</td>\n",
       "      <td>2.0</td>\n",
       "      <td>1.0</td>\n",
       "      <td>230402.0</td>\n",
       "      <td>17.0</td>\n",
       "      <td>230402.0</td>\n",
       "      <td>17.0</td>\n",
       "      <td>0</td>\n",
       "    </tr>\n",
       "  </tbody>\n",
       "</table>\n",
       "</div>"
      ],
      "text/plain": [
       "   Office_PIN  Applicant_City_PIN Applicant_Gender Applicant_Marital_Status  \\\n",
       "0      842001              844120                M                        M   \n",
       "1      842001              844111                M                        S   \n",
       "2      800001              844101                M                        M   \n",
       "3      814112              814112                M                        S   \n",
       "4      814112              815351                M                        M   \n",
       "\n",
       "  Applicant_Occupation Applicant_Qualification Manager_Joining_Designation  \\\n",
       "0               Others                Graduate                     Level 1   \n",
       "1               Others               Class XII                     Level 1   \n",
       "2             Business               Class XII                     Level 1   \n",
       "3             Salaried               Class XII                     Level 1   \n",
       "4               Others               Class XII                     Level 1   \n",
       "\n",
       "  Manager_Current_Designation  Manager_Grade Manager_Status Manager_Gender  \\\n",
       "0                     Level 2            3.0   Confirmation              M   \n",
       "1                     Level 2            3.0   Confirmation              M   \n",
       "2                     Level 1            2.0   Confirmation              M   \n",
       "3                     Level 3            4.0   Confirmation              F   \n",
       "4                     Level 1            2.0   Confirmation              M   \n",
       "\n",
       "   Manager_Num_Application  Manager_Num_Coded  Manager_Business  \\\n",
       "0                      2.0                1.0          335249.0   \n",
       "1                      2.0                1.0          335249.0   \n",
       "2                      0.0                0.0          357184.0   \n",
       "3                      0.0                0.0          318356.0   \n",
       "4                      2.0                1.0          230402.0   \n",
       "\n",
       "   Manager_Num_Products  Manager_Business2  Manager_Num_Products2  \\\n",
       "0                  28.0           335249.0                   28.0   \n",
       "1                  28.0           335249.0                   28.0   \n",
       "2                  24.0           357184.0                   24.0   \n",
       "3                  22.0           318356.0                   22.0   \n",
       "4                  17.0           230402.0                   17.0   \n",
       "\n",
       "   Business_Sourced  \n",
       "0                 0  \n",
       "1                 1  \n",
       "2                 0  \n",
       "3                 0  \n",
       "4                 0  "
      ]
     },
     "execution_count": 39,
     "metadata": {},
     "output_type": "execute_result"
    }
   ],
   "source": [
    "data.head()"
   ]
  },
  {
   "cell_type": "code",
   "execution_count": 44,
   "metadata": {},
   "outputs": [
    {
     "data": {
      "text/html": [
       "<div>\n",
       "<style scoped>\n",
       "    .dataframe tbody tr th:only-of-type {\n",
       "        vertical-align: middle;\n",
       "    }\n",
       "\n",
       "    .dataframe tbody tr th {\n",
       "        vertical-align: top;\n",
       "    }\n",
       "\n",
       "    .dataframe thead th {\n",
       "        text-align: right;\n",
       "    }\n",
       "</style>\n",
       "<table border=\"1\" class=\"dataframe\">\n",
       "  <thead>\n",
       "    <tr style=\"text-align: right;\">\n",
       "      <th></th>\n",
       "      <th>Office_PIN</th>\n",
       "      <th>Applicant_City_PIN</th>\n",
       "      <th>Manager_Grade</th>\n",
       "      <th>Manager_Num_Application</th>\n",
       "      <th>Manager_Num_Coded</th>\n",
       "      <th>Manager_Business</th>\n",
       "      <th>Manager_Num_Products</th>\n",
       "      <th>Manager_Business2</th>\n",
       "      <th>Manager_Num_Products2</th>\n",
       "      <th>Business_Sourced</th>\n",
       "      <th>...</th>\n",
       "      <th>Manager_Joining_Designation_Other</th>\n",
       "      <th>Manager_Current_Designation_Level 1</th>\n",
       "      <th>Manager_Current_Designation_Level 2</th>\n",
       "      <th>Manager_Current_Designation_Level 3</th>\n",
       "      <th>Manager_Current_Designation_Level 4</th>\n",
       "      <th>Manager_Current_Designation_Level 5</th>\n",
       "      <th>Manager_Status_Confirmation</th>\n",
       "      <th>Manager_Status_Probation</th>\n",
       "      <th>Manager_Gender_F</th>\n",
       "      <th>Manager_Gender_M</th>\n",
       "    </tr>\n",
       "  </thead>\n",
       "  <tbody>\n",
       "    <tr>\n",
       "      <th>0</th>\n",
       "      <td>842001</td>\n",
       "      <td>844120</td>\n",
       "      <td>3.0</td>\n",
       "      <td>2.0</td>\n",
       "      <td>1.0</td>\n",
       "      <td>335249.0</td>\n",
       "      <td>28.0</td>\n",
       "      <td>335249.0</td>\n",
       "      <td>28.0</td>\n",
       "      <td>0</td>\n",
       "      <td>...</td>\n",
       "      <td>0</td>\n",
       "      <td>0</td>\n",
       "      <td>1</td>\n",
       "      <td>0</td>\n",
       "      <td>0</td>\n",
       "      <td>0</td>\n",
       "      <td>1</td>\n",
       "      <td>0</td>\n",
       "      <td>0</td>\n",
       "      <td>1</td>\n",
       "    </tr>\n",
       "    <tr>\n",
       "      <th>1</th>\n",
       "      <td>842001</td>\n",
       "      <td>844111</td>\n",
       "      <td>3.0</td>\n",
       "      <td>2.0</td>\n",
       "      <td>1.0</td>\n",
       "      <td>335249.0</td>\n",
       "      <td>28.0</td>\n",
       "      <td>335249.0</td>\n",
       "      <td>28.0</td>\n",
       "      <td>1</td>\n",
       "      <td>...</td>\n",
       "      <td>0</td>\n",
       "      <td>0</td>\n",
       "      <td>1</td>\n",
       "      <td>0</td>\n",
       "      <td>0</td>\n",
       "      <td>0</td>\n",
       "      <td>1</td>\n",
       "      <td>0</td>\n",
       "      <td>0</td>\n",
       "      <td>1</td>\n",
       "    </tr>\n",
       "    <tr>\n",
       "      <th>2</th>\n",
       "      <td>800001</td>\n",
       "      <td>844101</td>\n",
       "      <td>2.0</td>\n",
       "      <td>0.0</td>\n",
       "      <td>0.0</td>\n",
       "      <td>357184.0</td>\n",
       "      <td>24.0</td>\n",
       "      <td>357184.0</td>\n",
       "      <td>24.0</td>\n",
       "      <td>0</td>\n",
       "      <td>...</td>\n",
       "      <td>0</td>\n",
       "      <td>1</td>\n",
       "      <td>0</td>\n",
       "      <td>0</td>\n",
       "      <td>0</td>\n",
       "      <td>0</td>\n",
       "      <td>1</td>\n",
       "      <td>0</td>\n",
       "      <td>0</td>\n",
       "      <td>1</td>\n",
       "    </tr>\n",
       "    <tr>\n",
       "      <th>3</th>\n",
       "      <td>814112</td>\n",
       "      <td>814112</td>\n",
       "      <td>4.0</td>\n",
       "      <td>0.0</td>\n",
       "      <td>0.0</td>\n",
       "      <td>318356.0</td>\n",
       "      <td>22.0</td>\n",
       "      <td>318356.0</td>\n",
       "      <td>22.0</td>\n",
       "      <td>0</td>\n",
       "      <td>...</td>\n",
       "      <td>0</td>\n",
       "      <td>0</td>\n",
       "      <td>0</td>\n",
       "      <td>1</td>\n",
       "      <td>0</td>\n",
       "      <td>0</td>\n",
       "      <td>1</td>\n",
       "      <td>0</td>\n",
       "      <td>1</td>\n",
       "      <td>0</td>\n",
       "    </tr>\n",
       "    <tr>\n",
       "      <th>4</th>\n",
       "      <td>814112</td>\n",
       "      <td>815351</td>\n",
       "      <td>2.0</td>\n",
       "      <td>2.0</td>\n",
       "      <td>1.0</td>\n",
       "      <td>230402.0</td>\n",
       "      <td>17.0</td>\n",
       "      <td>230402.0</td>\n",
       "      <td>17.0</td>\n",
       "      <td>0</td>\n",
       "      <td>...</td>\n",
       "      <td>0</td>\n",
       "      <td>1</td>\n",
       "      <td>0</td>\n",
       "      <td>0</td>\n",
       "      <td>0</td>\n",
       "      <td>0</td>\n",
       "      <td>1</td>\n",
       "      <td>0</td>\n",
       "      <td>0</td>\n",
       "      <td>1</td>\n",
       "    </tr>\n",
       "  </tbody>\n",
       "</table>\n",
       "<p>5 rows × 43 columns</p>\n",
       "</div>"
      ],
      "text/plain": [
       "   Office_PIN  Applicant_City_PIN  Manager_Grade  Manager_Num_Application  \\\n",
       "0      842001              844120            3.0                      2.0   \n",
       "1      842001              844111            3.0                      2.0   \n",
       "2      800001              844101            2.0                      0.0   \n",
       "3      814112              814112            4.0                      0.0   \n",
       "4      814112              815351            2.0                      2.0   \n",
       "\n",
       "   Manager_Num_Coded  Manager_Business  Manager_Num_Products  \\\n",
       "0                1.0          335249.0                  28.0   \n",
       "1                1.0          335249.0                  28.0   \n",
       "2                0.0          357184.0                  24.0   \n",
       "3                0.0          318356.0                  22.0   \n",
       "4                1.0          230402.0                  17.0   \n",
       "\n",
       "   Manager_Business2  Manager_Num_Products2  Business_Sourced  ...  \\\n",
       "0           335249.0                   28.0                 0  ...   \n",
       "1           335249.0                   28.0                 1  ...   \n",
       "2           357184.0                   24.0                 0  ...   \n",
       "3           318356.0                   22.0                 0  ...   \n",
       "4           230402.0                   17.0                 0  ...   \n",
       "\n",
       "   Manager_Joining_Designation_Other  Manager_Current_Designation_Level 1  \\\n",
       "0                                  0                                    0   \n",
       "1                                  0                                    0   \n",
       "2                                  0                                    1   \n",
       "3                                  0                                    0   \n",
       "4                                  0                                    1   \n",
       "\n",
       "   Manager_Current_Designation_Level 2  Manager_Current_Designation_Level 3  \\\n",
       "0                                    1                                    0   \n",
       "1                                    1                                    0   \n",
       "2                                    0                                    0   \n",
       "3                                    0                                    1   \n",
       "4                                    0                                    0   \n",
       "\n",
       "   Manager_Current_Designation_Level 4  Manager_Current_Designation_Level 5  \\\n",
       "0                                    0                                    0   \n",
       "1                                    0                                    0   \n",
       "2                                    0                                    0   \n",
       "3                                    0                                    0   \n",
       "4                                    0                                    0   \n",
       "\n",
       "   Manager_Status_Confirmation  Manager_Status_Probation  Manager_Gender_F  \\\n",
       "0                            1                         0                 0   \n",
       "1                            1                         0                 0   \n",
       "2                            1                         0                 0   \n",
       "3                            1                         0                 1   \n",
       "4                            1                         0                 0   \n",
       "\n",
       "   Manager_Gender_M  \n",
       "0                 1  \n",
       "1                 1  \n",
       "2                 1  \n",
       "3                 0  \n",
       "4                 1  \n",
       "\n",
       "[5 rows x 43 columns]"
      ]
     },
     "execution_count": 44,
     "metadata": {},
     "output_type": "execute_result"
    }
   ],
   "source": [
    "data=pd.get_dummies(data)\n",
    "data.head()"
   ]
  },
  {
   "cell_type": "markdown",
   "metadata": {},
   "source": [
    "## Implementing Logistic Regression "
   ]
  },
  {
   "cell_type": "markdown",
   "metadata": {},
   "source": [
    "#### Identifying feature and target variable"
   ]
  },
  {
   "cell_type": "code",
   "execution_count": 46,
   "metadata": {},
   "outputs": [],
   "source": [
    "feature=data.drop(\"Business_Sourced\",axis=1)\n",
    "target=data[\"Business_Sourced\"]"
   ]
  },
  {
   "cell_type": "markdown",
   "metadata": {},
   "source": [
    "#### Dividing data into train set and test set"
   ]
  },
  {
   "cell_type": "code",
   "execution_count": 59,
   "metadata": {},
   "outputs": [],
   "source": [
    "from sklearn.model_selection import train_test_split\n",
    "train_x,test_x,train_y,test_y=train_test_split(feature,target,random_state=90,stratify=target,test_size=0.2)"
   ]
  },
  {
   "cell_type": "markdown",
   "metadata": {},
   "source": [
    "#### Importing Logistic Regression"
   ]
  },
  {
   "cell_type": "code",
   "execution_count": 62,
   "metadata": {},
   "outputs": [
    {
     "data": {
      "text/plain": [
       "0.6573851590106007"
      ]
     },
     "execution_count": 62,
     "metadata": {},
     "output_type": "execute_result"
    }
   ],
   "source": [
    "from sklearn.linear_model import LogisticRegression as LR\n",
    "from sklearn.metrics import auc,f1_score\n",
    "from sklearn.metrics import roc_auc_score\n",
    "model=LR()\n",
    "model.fit(train_x,train_y)\n",
    "train_predict=model.predict(train_x)\n",
    "model.score(train_x,train_y)"
   ]
  },
  {
   "cell_type": "code",
   "execution_count": 63,
   "metadata": {},
   "outputs": [
    {
     "data": {
      "text/plain": [
       "0.6574335782928208"
      ]
     },
     "execution_count": 63,
     "metadata": {},
     "output_type": "execute_result"
    }
   ],
   "source": [
    "test_predict=model.predict(test_x)\n",
    "model.score(test_x,test_y)"
   ]
  },
  {
   "cell_type": "code",
   "execution_count": 64,
   "metadata": {},
   "outputs": [
    {
     "data": {
      "text/plain": [
       "0.5002061855670104"
      ]
     },
     "execution_count": 64,
     "metadata": {},
     "output_type": "execute_result"
    }
   ],
   "source": [
    "roc_auc_score(train_y,train_predict)"
   ]
  },
  {
   "cell_type": "code",
   "execution_count": 65,
   "metadata": {},
   "outputs": [
    {
     "data": {
      "text/plain": [
       "0.5"
      ]
     },
     "execution_count": 65,
     "metadata": {},
     "output_type": "execute_result"
    }
   ],
   "source": [
    "roc_auc_score(test_y,test_predict)"
   ]
  },
  {
   "cell_type": "markdown",
   "metadata": {},
   "source": [
    "#### Importing Decision Tree"
   ]
  },
  {
   "cell_type": "code",
   "execution_count": 95,
   "metadata": {},
   "outputs": [],
   "source": [
    "from sklearn.tree import DecisionTreeClassifier as DT\n",
    "dt=DT(max_depth=13)"
   ]
  },
  {
   "cell_type": "code",
   "execution_count": 96,
   "metadata": {},
   "outputs": [
    {
     "data": {
      "text/plain": [
       "0.7860070671378092"
      ]
     },
     "execution_count": 96,
     "metadata": {},
     "output_type": "execute_result"
    }
   ],
   "source": [
    "dt.fit(train_x,train_y)\n",
    "dt_train_predict=dt.predict(train_x)\n",
    "dt.score(train_x,train_y)"
   ]
  },
  {
   "cell_type": "code",
   "execution_count": 97,
   "metadata": {},
   "outputs": [
    {
     "data": {
      "text/plain": [
       "0.6302996042962126"
      ]
     },
     "execution_count": 97,
     "metadata": {},
     "output_type": "execute_result"
    }
   ],
   "source": [
    "dt_test_predict=dt.predict(test_x)\n",
    "dt.score(test_x,test_y)"
   ]
  },
  {
   "cell_type": "markdown",
   "metadata": {},
   "source": [
    "#### Importing KNN"
   ]
  },
  {
   "cell_type": "code",
   "execution_count": 102,
   "metadata": {},
   "outputs": [],
   "source": [
    "from sklearn.neighbors import KNeighborsClassifier as KNN\n",
    "knn=KNN(n_neighbors=)"
   ]
  },
  {
   "cell_type": "code",
   "execution_count": 103,
   "metadata": {},
   "outputs": [
    {
     "data": {
      "text/plain": [
       "0.6979505300353357"
      ]
     },
     "execution_count": 103,
     "metadata": {},
     "output_type": "execute_result"
    }
   ],
   "source": [
    "knn.fit(train_x,train_y)\n",
    "knn_train_predict=knn.predict(train_x)\n",
    "knn.score(train_x,train_y)"
   ]
  },
  {
   "cell_type": "code",
   "execution_count": 104,
   "metadata": {},
   "outputs": [
    {
     "data": {
      "text/plain": [
       "0.6325607687959299"
      ]
     },
     "execution_count": 104,
     "metadata": {},
     "output_type": "execute_result"
    }
   ],
   "source": [
    "knn_test_predict=knn.predict(test_x)\n",
    "knn.score(test_x,test_y)"
   ]
  },
  {
   "cell_type": "code",
   "execution_count": null,
   "metadata": {},
   "outputs": [],
   "source": []
  }
 ],
 "metadata": {
  "kernelspec": {
   "display_name": "Python 3",
   "language": "python",
   "name": "python3"
  },
  "language_info": {
   "codemirror_mode": {
    "name": "ipython",
    "version": 3
   },
   "file_extension": ".py",
   "mimetype": "text/x-python",
   "name": "python",
   "nbconvert_exporter": "python",
   "pygments_lexer": "ipython3",
   "version": "3.7.6"
  }
 },
 "nbformat": 4,
 "nbformat_minor": 4
}
