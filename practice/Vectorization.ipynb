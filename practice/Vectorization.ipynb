{
 "cells": [
  {
   "cell_type": "code",
   "execution_count": 12,
   "metadata": {},
   "outputs": [],
   "source": [
    "import numpy as np \n",
    "import time\n",
    "import math"
   ]
  },
  {
   "cell_type": "code",
   "execution_count": 13,
   "metadata": {},
   "outputs": [
    {
     "name": "stdout",
     "output_type": "stream",
     "text": [
      "Vectorization time  0.5654096603393555ms\n"
     ]
    }
   ],
   "source": [
    "a=np.random.rand(1000000)\n",
    "b=np.random.rand(1000000)\n",
    "\n",
    "t1=time.time()\n",
    "c=np.dot(a,b)\n",
    "t2=time.time()\n",
    "\n",
    "print(\"Vectorization time  \"+str((t2-t1)*100)+\"ms\")"
   ]
  },
  {
   "cell_type": "code",
   "execution_count": 14,
   "metadata": {},
   "outputs": [
    {
     "name": "stdout",
     "output_type": "stream",
     "text": [
      "Explicit For loop time  131.00152015686035ms\n"
     ]
    }
   ],
   "source": [
    "c=0\n",
    "t1=time.time()\n",
    "for i in range(len(a)):\n",
    "    c+=a[i]*b[i]\n",
    "t2=time.time()\n",
    "\n",
    "print(\"Explicit For loop time  \"+str((t2-t1)*100)+\"ms\")"
   ]
  },
  {
   "cell_type": "code",
   "execution_count": 15,
   "metadata": {},
   "outputs": [
    {
     "name": "stdout",
     "output_type": "stream",
     "text": [
      "1590638615.7204978ms\n"
     ]
    }
   ],
   "source": [
    "print(str(t2)+\"ms\")"
   ]
  },
  {
   "cell_type": "code",
   "execution_count": 16,
   "metadata": {},
   "outputs": [
    {
     "name": "stdout",
     "output_type": "stream",
     "text": [
      "Explict For loop time  138.3941650390625ms\n"
     ]
    }
   ],
   "source": [
    "exp=np.zeros((len(a),1))\n",
    "t1=time.time()\n",
    "for i in range(len(a)):\n",
    "    exp[i]=math.exp(a[i])\n",
    "t2=time.time()\n",
    "\n",
    "print(\"Explict For loop time  \"+str((t2-t1)*100)+\"ms\")"
   ]
  },
  {
   "cell_type": "code",
   "execution_count": 17,
   "metadata": {},
   "outputs": [
    {
     "name": "stdout",
     "output_type": "stream",
     "text": [
      "Vectorization time  2.434086799621582ms\n"
     ]
    }
   ],
   "source": [
    "t1=time.time()\n",
    "exp=np.exp(a)\n",
    "t2=time.time()\n",
    "\n",
    "print(\"Vectorization time  \"+str((t2-t1)*100)+\"ms\")"
   ]
  },
  {
   "cell_type": "code",
   "execution_count": null,
   "metadata": {},
   "outputs": [],
   "source": []
  }
 ],
 "metadata": {
  "kernelspec": {
   "display_name": "Python 3",
   "language": "python",
   "name": "python3"
  },
  "language_info": {
   "codemirror_mode": {
    "name": "ipython",
    "version": 3
   },
   "file_extension": ".py",
   "mimetype": "text/x-python",
   "name": "python",
   "nbconvert_exporter": "python",
   "pygments_lexer": "ipython3",
   "version": "3.7.6"
  }
 },
 "nbformat": 4,
 "nbformat_minor": 4
}
