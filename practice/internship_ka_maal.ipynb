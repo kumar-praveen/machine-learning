{
 "cells": [
  {
   "cell_type": "code",
   "execution_count": 1,
   "metadata": {},
   "outputs": [],
   "source": [
    "import pandas as pd\n",
    "import numpy as np\n",
    "import nltk as nl\n",
    "from matplotlib import pyplot as plt"
   ]
  },
  {
   "cell_type": "code",
   "execution_count": 3,
   "metadata": {},
   "outputs": [],
   "source": [
    "posts=pd.read_csv(r\"D:\\machine_learning\\data\\Mldata\\posts.csv\")\n",
    "users=pd.read_csv(r\"D:\\machine_learning\\data\\Mldata\\users.csv\")\n",
    "views=pd.read_csv(r\"D:\\machine_learning\\data\\Mldata\\views.csv\")"
   ]
  },
  {
   "cell_type": "code",
   "execution_count": 5,
   "metadata": {},
   "outputs": [
    {
     "data": {
      "text/html": [
       "<div>\n",
       "<style scoped>\n",
       "    .dataframe tbody tr th:only-of-type {\n",
       "        vertical-align: middle;\n",
       "    }\n",
       "\n",
       "    .dataframe tbody tr th {\n",
       "        vertical-align: top;\n",
       "    }\n",
       "\n",
       "    .dataframe thead th {\n",
       "        text-align: right;\n",
       "    }\n",
       "</style>\n",
       "<table border=\"1\" class=\"dataframe\">\n",
       "  <thead>\n",
       "    <tr style=\"text-align: right;\">\n",
       "      <th></th>\n",
       "      <th>_id</th>\n",
       "      <th>name</th>\n",
       "      <th>gender</th>\n",
       "      <th>academics</th>\n",
       "    </tr>\n",
       "  </thead>\n",
       "  <tbody>\n",
       "    <tr>\n",
       "      <th>0</th>\n",
       "      <td>5d60098a653a331687083238</td>\n",
       "      <td>Nivesh Singh Chauhan</td>\n",
       "      <td>male</td>\n",
       "      <td>undergraduate</td>\n",
       "    </tr>\n",
       "    <tr>\n",
       "      <th>1</th>\n",
       "      <td>5d610ae1653a331687083239</td>\n",
       "      <td>Gaurav Sharma</td>\n",
       "      <td>male</td>\n",
       "      <td>graduate</td>\n",
       "    </tr>\n",
       "    <tr>\n",
       "      <th>2</th>\n",
       "      <td>5d618359fc5fcf3bdd9a0910</td>\n",
       "      <td>Akshay Mishra</td>\n",
       "      <td>male</td>\n",
       "      <td>undergraduate</td>\n",
       "    </tr>\n",
       "    <tr>\n",
       "      <th>3</th>\n",
       "      <td>5d6d2bb87fa40e1417a49315</td>\n",
       "      <td>Saksham Mathur</td>\n",
       "      <td>male</td>\n",
       "      <td>undergraduate</td>\n",
       "    </tr>\n",
       "    <tr>\n",
       "      <th>4</th>\n",
       "      <td>5d7c994d5720533e15c3b1e9</td>\n",
       "      <td>Varun Chowhan</td>\n",
       "      <td>male</td>\n",
       "      <td>undergraduate</td>\n",
       "    </tr>\n",
       "  </tbody>\n",
       "</table>\n",
       "</div>"
      ],
      "text/plain": [
       "                        _id                  name gender      academics\n",
       "0  5d60098a653a331687083238  Nivesh Singh Chauhan   male  undergraduate\n",
       "1  5d610ae1653a331687083239         Gaurav Sharma   male       graduate\n",
       "2  5d618359fc5fcf3bdd9a0910         Akshay Mishra   male  undergraduate\n",
       "3  5d6d2bb87fa40e1417a49315        Saksham Mathur   male  undergraduate\n",
       "4  5d7c994d5720533e15c3b1e9         Varun Chowhan   male  undergraduate"
      ]
     },
     "execution_count": 5,
     "metadata": {},
     "output_type": "execute_result"
    }
   ],
   "source": [
    "users.head()"
   ]
  },
  {
   "cell_type": "code",
   "execution_count": 28,
   "metadata": {},
   "outputs": [
    {
     "data": {
      "text/html": [
       "<div>\n",
       "<style scoped>\n",
       "    .dataframe tbody tr th:only-of-type {\n",
       "        vertical-align: middle;\n",
       "    }\n",
       "\n",
       "    .dataframe tbody tr th {\n",
       "        vertical-align: top;\n",
       "    }\n",
       "\n",
       "    .dataframe thead th {\n",
       "        text-align: right;\n",
       "    }\n",
       "</style>\n",
       "<table border=\"1\" class=\"dataframe\">\n",
       "  <thead>\n",
       "    <tr style=\"text-align: right;\">\n",
       "      <th></th>\n",
       "      <th>_id</th>\n",
       "      <th>title</th>\n",
       "      <th>category</th>\n",
       "      <th>post_type</th>\n",
       "    </tr>\n",
       "  </thead>\n",
       "  <tbody>\n",
       "    <tr>\n",
       "      <th>0</th>\n",
       "      <td>5d62abaa65218653a132c956</td>\n",
       "      <td>hello there</td>\n",
       "      <td>Plant Biotechnology</td>\n",
       "      <td>blog</td>\n",
       "    </tr>\n",
       "    <tr>\n",
       "      <th>1</th>\n",
       "      <td>5d6d39567fa40e1417a4931c</td>\n",
       "      <td>Ml and AI</td>\n",
       "      <td>Artificial Intelligence|Machine Learning|Infor...</td>\n",
       "      <td>blog</td>\n",
       "    </tr>\n",
       "    <tr>\n",
       "      <th>2</th>\n",
       "      <td>5d7d23315720533e15c3b1ee</td>\n",
       "      <td>What is an Operating System ?</td>\n",
       "      <td>Operating Systems</td>\n",
       "      <td>blog</td>\n",
       "    </tr>\n",
       "    <tr>\n",
       "      <th>3</th>\n",
       "      <td>5d7d405e5720533e15c3b1f3</td>\n",
       "      <td>Lord Shiva</td>\n",
       "      <td>Drawings</td>\n",
       "      <td>artwork</td>\n",
       "    </tr>\n",
       "    <tr>\n",
       "      <th>4</th>\n",
       "      <td>5d80dfbc6c53455f896e600e</td>\n",
       "      <td>How Competition law evolved?</td>\n",
       "      <td>Competition Laws</td>\n",
       "      <td>blog</td>\n",
       "    </tr>\n",
       "  </tbody>\n",
       "</table>\n",
       "</div>"
      ],
      "text/plain": [
       "                        _id                          title  \\\n",
       "0  5d62abaa65218653a132c956                    hello there   \n",
       "1  5d6d39567fa40e1417a4931c                      Ml and AI   \n",
       "2  5d7d23315720533e15c3b1ee  What is an Operating System ?   \n",
       "3  5d7d405e5720533e15c3b1f3                     Lord Shiva   \n",
       "4  5d80dfbc6c53455f896e600e   How Competition law evolved?   \n",
       "\n",
       "                                            category  post_type  \n",
       "0                                Plant Biotechnology       blog  \n",
       "1  Artificial Intelligence|Machine Learning|Infor...       blog  \n",
       "2                                  Operating Systems       blog  \n",
       "3                                           Drawings    artwork  \n",
       "4                                   Competition Laws       blog  "
      ]
     },
     "execution_count": 28,
     "metadata": {},
     "output_type": "execute_result"
    }
   ],
   "source": [
    "posts.head()"
   ]
  },
  {
   "cell_type": "code",
   "execution_count": 30,
   "metadata": {},
   "outputs": [
    {
     "data": {
      "text/plain": [
       "((118, 4), (493, 4))"
      ]
     },
     "execution_count": 30,
     "metadata": {},
     "output_type": "execute_result"
    }
   ],
   "source": [
    "users.shape,posts.shape"
   ]
  },
  {
   "cell_type": "code",
   "execution_count": null,
   "metadata": {},
   "outputs": [],
   "source": []
  }
 ],
 "metadata": {
  "kernelspec": {
   "display_name": "Python 3",
   "language": "python",
   "name": "python3"
  },
  "language_info": {
   "codemirror_mode": {
    "name": "ipython",
    "version": 3
   },
   "file_extension": ".py",
   "mimetype": "text/x-python",
   "name": "python",
   "nbconvert_exporter": "python",
   "pygments_lexer": "ipython3",
   "version": "3.7.6"
  }
 },
 "nbformat": 4,
 "nbformat_minor": 4
}
