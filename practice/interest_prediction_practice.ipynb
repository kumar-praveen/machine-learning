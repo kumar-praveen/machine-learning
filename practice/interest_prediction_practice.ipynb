{
 "cells": [
  {
   "cell_type": "code",
   "execution_count": 190,
   "metadata": {},
   "outputs": [],
   "source": [
    "import pandas as pd\n",
    "import numpy as np\n",
    "from matplotlib import pyplot as plt\n",
    "from statistics import mode"
   ]
  },
  {
   "cell_type": "code",
   "execution_count": 191,
   "metadata": {},
   "outputs": [
    {
     "data": {
      "text/plain": [
       "((164309, 14), (109541, 13))"
      ]
     },
     "execution_count": 191,
     "metadata": {},
     "output_type": "execute_result"
    }
   ],
   "source": [
    "train_data=pd.read_csv(r\"Downloads\\train1.csv\")\n",
    "test_data=pd.read_csv(r\"Downloads\\test1.csv\")\n",
    "train_data.shape,test_data.shape"
   ]
  },
  {
   "cell_type": "markdown",
   "metadata": {},
   "source": [
    "### Dealing with train_data"
   ]
  },
  {
   "cell_type": "code",
   "execution_count": 192,
   "metadata": {},
   "outputs": [
    {
     "data": {
      "text/html": [
       "<div>\n",
       "<style scoped>\n",
       "    .dataframe tbody tr th:only-of-type {\n",
       "        vertical-align: middle;\n",
       "    }\n",
       "\n",
       "    .dataframe tbody tr th {\n",
       "        vertical-align: top;\n",
       "    }\n",
       "\n",
       "    .dataframe thead th {\n",
       "        text-align: right;\n",
       "    }\n",
       "</style>\n",
       "<table border=\"1\" class=\"dataframe\">\n",
       "  <thead>\n",
       "    <tr style=\"text-align: right;\">\n",
       "      <th></th>\n",
       "      <th>Loan_ID</th>\n",
       "      <th>Loan_Amount_Requested</th>\n",
       "      <th>Length_Employed</th>\n",
       "      <th>Home_Owner</th>\n",
       "      <th>Annual_Income</th>\n",
       "      <th>Income_Verified</th>\n",
       "      <th>Purpose_Of_Loan</th>\n",
       "      <th>Debt_To_Income</th>\n",
       "      <th>Inquiries_Last_6Mo</th>\n",
       "      <th>Months_Since_Deliquency</th>\n",
       "      <th>Number_Open_Accounts</th>\n",
       "      <th>Total_Accounts</th>\n",
       "      <th>Gender</th>\n",
       "      <th>Interest_Rate</th>\n",
       "    </tr>\n",
       "  </thead>\n",
       "  <tbody>\n",
       "    <tr>\n",
       "      <th>0</th>\n",
       "      <td>10000001</td>\n",
       "      <td>7,000</td>\n",
       "      <td>&lt; 1 year</td>\n",
       "      <td>Rent</td>\n",
       "      <td>68000.0</td>\n",
       "      <td>not verified</td>\n",
       "      <td>car</td>\n",
       "      <td>18.37</td>\n",
       "      <td>0</td>\n",
       "      <td>NaN</td>\n",
       "      <td>9</td>\n",
       "      <td>14</td>\n",
       "      <td>Female</td>\n",
       "      <td>1</td>\n",
       "    </tr>\n",
       "    <tr>\n",
       "      <th>1</th>\n",
       "      <td>10000002</td>\n",
       "      <td>30,000</td>\n",
       "      <td>4 years</td>\n",
       "      <td>Mortgage</td>\n",
       "      <td>NaN</td>\n",
       "      <td>VERIFIED - income</td>\n",
       "      <td>debt_consolidation</td>\n",
       "      <td>14.93</td>\n",
       "      <td>0</td>\n",
       "      <td>17.0</td>\n",
       "      <td>12</td>\n",
       "      <td>24</td>\n",
       "      <td>Female</td>\n",
       "      <td>3</td>\n",
       "    </tr>\n",
       "    <tr>\n",
       "      <th>2</th>\n",
       "      <td>10000003</td>\n",
       "      <td>24,725</td>\n",
       "      <td>7 years</td>\n",
       "      <td>Mortgage</td>\n",
       "      <td>75566.4</td>\n",
       "      <td>VERIFIED - income source</td>\n",
       "      <td>debt_consolidation</td>\n",
       "      <td>15.88</td>\n",
       "      <td>0</td>\n",
       "      <td>NaN</td>\n",
       "      <td>12</td>\n",
       "      <td>16</td>\n",
       "      <td>Male</td>\n",
       "      <td>3</td>\n",
       "    </tr>\n",
       "    <tr>\n",
       "      <th>3</th>\n",
       "      <td>10000004</td>\n",
       "      <td>16,000</td>\n",
       "      <td>&lt; 1 year</td>\n",
       "      <td>NaN</td>\n",
       "      <td>56160.0</td>\n",
       "      <td>VERIFIED - income source</td>\n",
       "      <td>debt_consolidation</td>\n",
       "      <td>14.34</td>\n",
       "      <td>3</td>\n",
       "      <td>NaN</td>\n",
       "      <td>16</td>\n",
       "      <td>22</td>\n",
       "      <td>Male</td>\n",
       "      <td>3</td>\n",
       "    </tr>\n",
       "    <tr>\n",
       "      <th>4</th>\n",
       "      <td>10000005</td>\n",
       "      <td>17,000</td>\n",
       "      <td>8 years</td>\n",
       "      <td>Own</td>\n",
       "      <td>96000.0</td>\n",
       "      <td>VERIFIED - income source</td>\n",
       "      <td>debt_consolidation</td>\n",
       "      <td>22.17</td>\n",
       "      <td>1</td>\n",
       "      <td>NaN</td>\n",
       "      <td>19</td>\n",
       "      <td>30</td>\n",
       "      <td>Female</td>\n",
       "      <td>1</td>\n",
       "    </tr>\n",
       "  </tbody>\n",
       "</table>\n",
       "</div>"
      ],
      "text/plain": [
       "    Loan_ID Loan_Amount_Requested Length_Employed Home_Owner  Annual_Income  \\\n",
       "0  10000001                 7,000        < 1 year       Rent        68000.0   \n",
       "1  10000002                30,000         4 years   Mortgage            NaN   \n",
       "2  10000003                24,725         7 years   Mortgage        75566.4   \n",
       "3  10000004                16,000        < 1 year        NaN        56160.0   \n",
       "4  10000005                17,000         8 years        Own        96000.0   \n",
       "\n",
       "            Income_Verified     Purpose_Of_Loan  Debt_To_Income  \\\n",
       "0              not verified                 car           18.37   \n",
       "1         VERIFIED - income  debt_consolidation           14.93   \n",
       "2  VERIFIED - income source  debt_consolidation           15.88   \n",
       "3  VERIFIED - income source  debt_consolidation           14.34   \n",
       "4  VERIFIED - income source  debt_consolidation           22.17   \n",
       "\n",
       "   Inquiries_Last_6Mo  Months_Since_Deliquency  Number_Open_Accounts  \\\n",
       "0                   0                      NaN                     9   \n",
       "1                   0                     17.0                    12   \n",
       "2                   0                      NaN                    12   \n",
       "3                   3                      NaN                    16   \n",
       "4                   1                      NaN                    19   \n",
       "\n",
       "   Total_Accounts  Gender  Interest_Rate  \n",
       "0              14  Female              1  \n",
       "1              24  Female              3  \n",
       "2              16    Male              3  \n",
       "3              22    Male              3  \n",
       "4              30  Female              1  "
      ]
     },
     "execution_count": 192,
     "metadata": {},
     "output_type": "execute_result"
    }
   ],
   "source": [
    "train_data.head()"
   ]
  },
  {
   "cell_type": "code",
   "execution_count": 193,
   "metadata": {},
   "outputs": [
    {
     "data": {
      "text/plain": [
       "Loan_ID                        0\n",
       "Loan_Amount_Requested          0\n",
       "Length_Employed             7371\n",
       "Home_Owner                 25349\n",
       "Annual_Income              25102\n",
       "Income_Verified                0\n",
       "Purpose_Of_Loan                0\n",
       "Debt_To_Income                 0\n",
       "Inquiries_Last_6Mo             0\n",
       "Months_Since_Deliquency    88379\n",
       "Number_Open_Accounts           0\n",
       "Total_Accounts                 0\n",
       "Gender                         0\n",
       "Interest_Rate                  0\n",
       "dtype: int64"
      ]
     },
     "execution_count": 193,
     "metadata": {},
     "output_type": "execute_result"
    }
   ],
   "source": [
    "train_data.isnull().sum()"
   ]
  },
  {
   "cell_type": "code",
   "execution_count": 194,
   "metadata": {},
   "outputs": [],
   "source": [
    "mode=train_data[\"Length_Employed\"].mode()[0]\n",
    "mode\n",
    "train_data[\"Length_Employed\"].fillna(mode,inplace=True)"
   ]
  },
  {
   "cell_type": "code",
   "execution_count": 195,
   "metadata": {},
   "outputs": [
    {
     "data": {
      "text/plain": [
       "Mortgage    95694\n",
       "Rent        56031\n",
       "Own         12525\n",
       "Other          59\n",
       "Name: Home_Owner, dtype: int64"
      ]
     },
     "execution_count": 195,
     "metadata": {},
     "output_type": "execute_result"
    }
   ],
   "source": [
    "mode=train_data[\"Home_Owner\"].mode()[0]\n",
    "train_data[\"Home_Owner\"].fillna(mode,inplace=True)\n",
    "train_data[\"Home_Owner\"].isnull().sum()\n",
    "\n",
    "train_data[\"Home_Owner\"].replace({\"None\":\"Other\"},inplace=True)\n",
    "train_data[\"Home_Owner\"].value_counts()"
   ]
  },
  {
   "cell_type": "code",
   "execution_count": 196,
   "metadata": {},
   "outputs": [],
   "source": [
    "mean=train_data[\"Annual_Income\"].mean()\n",
    "train_data[\"Annual_Income\"].fillna(mean,inplace=True)"
   ]
  },
  {
   "cell_type": "code",
   "execution_count": 197,
   "metadata": {},
   "outputs": [],
   "source": [
    "mean=train_data[\"Months_Since_Deliquency\"].mean()\n",
    "train_data[\"Months_Since_Deliquency\"].fillna(mean,inplace=True)"
   ]
  },
  {
   "cell_type": "code",
   "execution_count": 198,
   "metadata": {},
   "outputs": [
    {
     "data": {
      "text/plain": [
       "Loan_ID                      int64\n",
       "Loan_Amount_Requested       object\n",
       "Length_Employed             object\n",
       "Home_Owner                  object\n",
       "Annual_Income              float64\n",
       "Income_Verified             object\n",
       "Purpose_Of_Loan             object\n",
       "Debt_To_Income             float64\n",
       "Inquiries_Last_6Mo           int64\n",
       "Months_Since_Deliquency    float64\n",
       "Number_Open_Accounts         int64\n",
       "Total_Accounts               int64\n",
       "Gender                      object\n",
       "Interest_Rate                int64\n",
       "dtype: object"
      ]
     },
     "execution_count": 198,
     "metadata": {},
     "output_type": "execute_result"
    }
   ],
   "source": [
    "train_data.dtypes"
   ]
  },
  {
   "cell_type": "code",
   "execution_count": 199,
   "metadata": {},
   "outputs": [
    {
     "name": "stdout",
     "output_type": "stream",
     "text": [
      "for object in Length_Employed\n",
      "10+ years    60286\n",
      "2 years      14620\n",
      "3 years      12974\n",
      "< 1 year     12805\n",
      "5 years      10814\n",
      "1 year       10422\n",
      "4 years       9784\n",
      "7 years       9308\n",
      "6 years       9094\n",
      "8 years       7917\n",
      "9 years       6285\n",
      "Name: Length_Employed, dtype: int64\n",
      "###################################\n",
      "for object in Home_Owner\n",
      "Mortgage    95694\n",
      "Rent        56031\n",
      "Own         12525\n",
      "Other          59\n",
      "Name: Home_Owner, dtype: int64\n",
      "###################################\n",
      "for object in Income_Verified\n",
      "VERIFIED - income           59421\n",
      "VERIFIED - income source    53015\n",
      "not verified                51873\n",
      "Name: Income_Verified, dtype: int64\n",
      "###################################\n",
      "for object in Purpose_Of_Loan\n",
      "debt_consolidation    97101\n",
      "credit_card           36684\n",
      "home_improvement       9269\n",
      "other                  8346\n",
      "major_purchase         3435\n",
      "small_business         2392\n",
      "car                    1885\n",
      "medical                1541\n",
      "moving                  974\n",
      "vacation                837\n",
      "wedding                 828\n",
      "house                   773\n",
      "renewable_energy        123\n",
      "educational             121\n",
      "Name: Purpose_Of_Loan, dtype: int64\n",
      "###################################\n",
      "for object in Gender\n",
      "Male      117176\n",
      "Female     47133\n",
      "Name: Gender, dtype: int64\n",
      "###################################\n"
     ]
    }
   ],
   "source": [
    "object=[\"Length_Employed\",\"Home_Owner\",\"Income_Verified\",\"Purpose_Of_Loan\",\"Gender\"]\n",
    "for i in object:\n",
    "    print(\"for object in \"+i)\n",
    "    print(train_data[i].value_counts())\n",
    "    print(\"###################################\")"
   ]
  },
  {
   "cell_type": "code",
   "execution_count": 200,
   "metadata": {},
   "outputs": [
    {
     "data": {
      "text/plain": [
       "verified        112436\n",
       "not verified     51873\n",
       "Name: Income_Verified, dtype: int64"
      ]
     },
     "execution_count": 200,
     "metadata": {},
     "output_type": "execute_result"
    }
   ],
   "source": [
    "train_data[\"Income_Verified\"].replace({\"VERIFIED - income\":\"verified\",\"VERIFIED - income source\":\"verified\"},inplace=True)\n",
    "train_data[\"Income_Verified\"].value_counts()"
   ]
  },
  {
   "cell_type": "code",
   "execution_count": 201,
   "metadata": {},
   "outputs": [
    {
     "data": {
      "text/html": [
       "<div>\n",
       "<style scoped>\n",
       "    .dataframe tbody tr th:only-of-type {\n",
       "        vertical-align: middle;\n",
       "    }\n",
       "\n",
       "    .dataframe tbody tr th {\n",
       "        vertical-align: top;\n",
       "    }\n",
       "\n",
       "    .dataframe thead th {\n",
       "        text-align: right;\n",
       "    }\n",
       "</style>\n",
       "<table border=\"1\" class=\"dataframe\">\n",
       "  <thead>\n",
       "    <tr style=\"text-align: right;\">\n",
       "      <th></th>\n",
       "      <th>Loan_ID</th>\n",
       "      <th>Loan_Amount_Requested</th>\n",
       "      <th>Length_Employed</th>\n",
       "      <th>Home_Owner</th>\n",
       "      <th>Annual_Income</th>\n",
       "      <th>Income_Verified</th>\n",
       "      <th>Purpose_Of_Loan</th>\n",
       "      <th>Debt_To_Income</th>\n",
       "      <th>Inquiries_Last_6Mo</th>\n",
       "      <th>Months_Since_Deliquency</th>\n",
       "      <th>Number_Open_Accounts</th>\n",
       "      <th>Total_Accounts</th>\n",
       "      <th>Gender</th>\n",
       "      <th>Interest_Rate</th>\n",
       "    </tr>\n",
       "  </thead>\n",
       "  <tbody>\n",
       "    <tr>\n",
       "      <th>count</th>\n",
       "      <td>1.643090e+05</td>\n",
       "      <td>164309</td>\n",
       "      <td>164309</td>\n",
       "      <td>164309</td>\n",
       "      <td>1.643090e+05</td>\n",
       "      <td>164309</td>\n",
       "      <td>164309</td>\n",
       "      <td>164309.000000</td>\n",
       "      <td>164309.000000</td>\n",
       "      <td>164309.000000</td>\n",
       "      <td>164309.000000</td>\n",
       "      <td>164309.000000</td>\n",
       "      <td>164309</td>\n",
       "      <td>164309.000000</td>\n",
       "    </tr>\n",
       "    <tr>\n",
       "      <th>unique</th>\n",
       "      <td>NaN</td>\n",
       "      <td>1290</td>\n",
       "      <td>11</td>\n",
       "      <td>4</td>\n",
       "      <td>NaN</td>\n",
       "      <td>2</td>\n",
       "      <td>14</td>\n",
       "      <td>NaN</td>\n",
       "      <td>NaN</td>\n",
       "      <td>NaN</td>\n",
       "      <td>NaN</td>\n",
       "      <td>NaN</td>\n",
       "      <td>2</td>\n",
       "      <td>NaN</td>\n",
       "    </tr>\n",
       "    <tr>\n",
       "      <th>top</th>\n",
       "      <td>NaN</td>\n",
       "      <td>10,000</td>\n",
       "      <td>10+ years</td>\n",
       "      <td>Mortgage</td>\n",
       "      <td>NaN</td>\n",
       "      <td>verified</td>\n",
       "      <td>debt_consolidation</td>\n",
       "      <td>NaN</td>\n",
       "      <td>NaN</td>\n",
       "      <td>NaN</td>\n",
       "      <td>NaN</td>\n",
       "      <td>NaN</td>\n",
       "      <td>Male</td>\n",
       "      <td>NaN</td>\n",
       "    </tr>\n",
       "    <tr>\n",
       "      <th>freq</th>\n",
       "      <td>NaN</td>\n",
       "      <td>11622</td>\n",
       "      <td>60286</td>\n",
       "      <td>95694</td>\n",
       "      <td>NaN</td>\n",
       "      <td>112436</td>\n",
       "      <td>97101</td>\n",
       "      <td>NaN</td>\n",
       "      <td>NaN</td>\n",
       "      <td>NaN</td>\n",
       "      <td>NaN</td>\n",
       "      <td>NaN</td>\n",
       "      <td>117176</td>\n",
       "      <td>NaN</td>\n",
       "    </tr>\n",
       "    <tr>\n",
       "      <th>mean</th>\n",
       "      <td>1.008216e+07</td>\n",
       "      <td>NaN</td>\n",
       "      <td>NaN</td>\n",
       "      <td>NaN</td>\n",
       "      <td>7.333116e+04</td>\n",
       "      <td>NaN</td>\n",
       "      <td>NaN</td>\n",
       "      <td>17.207189</td>\n",
       "      <td>0.781698</td>\n",
       "      <td>34.229356</td>\n",
       "      <td>11.193818</td>\n",
       "      <td>25.067665</td>\n",
       "      <td>NaN</td>\n",
       "      <td>2.158951</td>\n",
       "    </tr>\n",
       "    <tr>\n",
       "      <th>std</th>\n",
       "      <td>4.743207e+04</td>\n",
       "      <td>NaN</td>\n",
       "      <td>NaN</td>\n",
       "      <td>NaN</td>\n",
       "      <td>5.557439e+04</td>\n",
       "      <td>NaN</td>\n",
       "      <td>NaN</td>\n",
       "      <td>7.845083</td>\n",
       "      <td>1.034747</td>\n",
       "      <td>14.793023</td>\n",
       "      <td>4.991813</td>\n",
       "      <td>11.583067</td>\n",
       "      <td>NaN</td>\n",
       "      <td>0.738364</td>\n",
       "    </tr>\n",
       "    <tr>\n",
       "      <th>min</th>\n",
       "      <td>1.000000e+07</td>\n",
       "      <td>NaN</td>\n",
       "      <td>NaN</td>\n",
       "      <td>NaN</td>\n",
       "      <td>4.000000e+03</td>\n",
       "      <td>NaN</td>\n",
       "      <td>NaN</td>\n",
       "      <td>0.000000</td>\n",
       "      <td>0.000000</td>\n",
       "      <td>0.000000</td>\n",
       "      <td>0.000000</td>\n",
       "      <td>2.000000</td>\n",
       "      <td>NaN</td>\n",
       "      <td>1.000000</td>\n",
       "    </tr>\n",
       "    <tr>\n",
       "      <th>25%</th>\n",
       "      <td>1.004108e+07</td>\n",
       "      <td>NaN</td>\n",
       "      <td>NaN</td>\n",
       "      <td>NaN</td>\n",
       "      <td>4.860000e+04</td>\n",
       "      <td>NaN</td>\n",
       "      <td>NaN</td>\n",
       "      <td>11.370000</td>\n",
       "      <td>0.000000</td>\n",
       "      <td>34.000000</td>\n",
       "      <td>8.000000</td>\n",
       "      <td>17.000000</td>\n",
       "      <td>NaN</td>\n",
       "      <td>2.000000</td>\n",
       "    </tr>\n",
       "    <tr>\n",
       "      <th>50%</th>\n",
       "      <td>1.008216e+07</td>\n",
       "      <td>NaN</td>\n",
       "      <td>NaN</td>\n",
       "      <td>NaN</td>\n",
       "      <td>7.000000e+04</td>\n",
       "      <td>NaN</td>\n",
       "      <td>NaN</td>\n",
       "      <td>16.840000</td>\n",
       "      <td>0.000000</td>\n",
       "      <td>34.229356</td>\n",
       "      <td>10.000000</td>\n",
       "      <td>23.000000</td>\n",
       "      <td>NaN</td>\n",
       "      <td>2.000000</td>\n",
       "    </tr>\n",
       "    <tr>\n",
       "      <th>75%</th>\n",
       "      <td>1.012323e+07</td>\n",
       "      <td>NaN</td>\n",
       "      <td>NaN</td>\n",
       "      <td>NaN</td>\n",
       "      <td>8.200000e+04</td>\n",
       "      <td>NaN</td>\n",
       "      <td>NaN</td>\n",
       "      <td>22.780000</td>\n",
       "      <td>1.000000</td>\n",
       "      <td>34.229356</td>\n",
       "      <td>14.000000</td>\n",
       "      <td>32.000000</td>\n",
       "      <td>NaN</td>\n",
       "      <td>3.000000</td>\n",
       "    </tr>\n",
       "    <tr>\n",
       "      <th>max</th>\n",
       "      <td>1.016431e+07</td>\n",
       "      <td>NaN</td>\n",
       "      <td>NaN</td>\n",
       "      <td>NaN</td>\n",
       "      <td>7.500000e+06</td>\n",
       "      <td>NaN</td>\n",
       "      <td>NaN</td>\n",
       "      <td>39.990000</td>\n",
       "      <td>8.000000</td>\n",
       "      <td>180.000000</td>\n",
       "      <td>76.000000</td>\n",
       "      <td>156.000000</td>\n",
       "      <td>NaN</td>\n",
       "      <td>3.000000</td>\n",
       "    </tr>\n",
       "  </tbody>\n",
       "</table>\n",
       "</div>"
      ],
      "text/plain": [
       "             Loan_ID Loan_Amount_Requested Length_Employed Home_Owner  \\\n",
       "count   1.643090e+05                164309          164309     164309   \n",
       "unique           NaN                  1290              11          4   \n",
       "top              NaN                10,000       10+ years   Mortgage   \n",
       "freq             NaN                 11622           60286      95694   \n",
       "mean    1.008216e+07                   NaN             NaN        NaN   \n",
       "std     4.743207e+04                   NaN             NaN        NaN   \n",
       "min     1.000000e+07                   NaN             NaN        NaN   \n",
       "25%     1.004108e+07                   NaN             NaN        NaN   \n",
       "50%     1.008216e+07                   NaN             NaN        NaN   \n",
       "75%     1.012323e+07                   NaN             NaN        NaN   \n",
       "max     1.016431e+07                   NaN             NaN        NaN   \n",
       "\n",
       "        Annual_Income Income_Verified     Purpose_Of_Loan  Debt_To_Income  \\\n",
       "count    1.643090e+05          164309              164309   164309.000000   \n",
       "unique            NaN               2                  14             NaN   \n",
       "top               NaN        verified  debt_consolidation             NaN   \n",
       "freq              NaN          112436               97101             NaN   \n",
       "mean     7.333116e+04             NaN                 NaN       17.207189   \n",
       "std      5.557439e+04             NaN                 NaN        7.845083   \n",
       "min      4.000000e+03             NaN                 NaN        0.000000   \n",
       "25%      4.860000e+04             NaN                 NaN       11.370000   \n",
       "50%      7.000000e+04             NaN                 NaN       16.840000   \n",
       "75%      8.200000e+04             NaN                 NaN       22.780000   \n",
       "max      7.500000e+06             NaN                 NaN       39.990000   \n",
       "\n",
       "        Inquiries_Last_6Mo  Months_Since_Deliquency  Number_Open_Accounts  \\\n",
       "count        164309.000000            164309.000000         164309.000000   \n",
       "unique                 NaN                      NaN                   NaN   \n",
       "top                    NaN                      NaN                   NaN   \n",
       "freq                   NaN                      NaN                   NaN   \n",
       "mean              0.781698                34.229356             11.193818   \n",
       "std               1.034747                14.793023              4.991813   \n",
       "min               0.000000                 0.000000              0.000000   \n",
       "25%               0.000000                34.000000              8.000000   \n",
       "50%               0.000000                34.229356             10.000000   \n",
       "75%               1.000000                34.229356             14.000000   \n",
       "max               8.000000               180.000000             76.000000   \n",
       "\n",
       "        Total_Accounts  Gender  Interest_Rate  \n",
       "count    164309.000000  164309  164309.000000  \n",
       "unique             NaN       2            NaN  \n",
       "top                NaN    Male            NaN  \n",
       "freq               NaN  117176            NaN  \n",
       "mean         25.067665     NaN       2.158951  \n",
       "std          11.583067     NaN       0.738364  \n",
       "min           2.000000     NaN       1.000000  \n",
       "25%          17.000000     NaN       2.000000  \n",
       "50%          23.000000     NaN       2.000000  \n",
       "75%          32.000000     NaN       3.000000  \n",
       "max         156.000000     NaN       3.000000  "
      ]
     },
     "execution_count": 201,
     "metadata": {},
     "output_type": "execute_result"
    }
   ],
   "source": [
    "train_data.describe(include=\"all\")"
   ]
  },
  {
   "cell_type": "code",
   "execution_count": 202,
   "metadata": {},
   "outputs": [
    {
     "name": "stderr",
     "output_type": "stream",
     "text": [
      "D:\\Anaconda\\lib\\site-packages\\ipykernel_launcher.py:5: SettingWithCopyWarning: \n",
      "A value is trying to be set on a copy of a slice from a DataFrame\n",
      "\n",
      "See the caveats in the documentation: https://pandas.pydata.org/pandas-docs/stable/user_guide/indexing.html#returning-a-view-versus-a-copy\n",
      "  \"\"\"\n"
     ]
    }
   ],
   "source": [
    "for i in range(len(train_data)):\n",
    "    token=train_data[\"Loan_Amount_Requested\"][i].split(\",\")\n",
    "    number=\"\"\n",
    "    number=number.join(token)\n",
    "    train_data[\"Loan_Amount_Requested\"][i]=number\n",
    "\n"
   ]
  },
  {
   "cell_type": "code",
   "execution_count": 203,
   "metadata": {},
   "outputs": [],
   "source": [
    "train_data=train_data.astype({\"Loan_Amount_Requested\":\"int\"})"
   ]
  },
  {
   "cell_type": "code",
   "execution_count": null,
   "metadata": {},
   "outputs": [],
   "source": []
  },
  {
   "cell_type": "markdown",
   "metadata": {},
   "source": [
    "### Dealing with test_data"
   ]
  },
  {
   "cell_type": "code",
   "execution_count": 204,
   "metadata": {},
   "outputs": [
    {
     "data": {
      "text/plain": [
       "Loan_ID                        0\n",
       "Loan_Amount_Requested          0\n",
       "Length_Employed             4936\n",
       "Home_Owner                 16711\n",
       "Annual_Income              16898\n",
       "Income_Verified                0\n",
       "Purpose_Of_Loan                0\n",
       "Debt_To_Income                 0\n",
       "Inquiries_Last_6Mo             0\n",
       "Months_Since_Deliquency    58859\n",
       "Number_Open_Accounts           0\n",
       "Total_Accounts                 0\n",
       "Gender                         0\n",
       "dtype: int64"
      ]
     },
     "execution_count": 204,
     "metadata": {},
     "output_type": "execute_result"
    }
   ],
   "source": [
    "test_data.isnull().sum()"
   ]
  },
  {
   "cell_type": "code",
   "execution_count": 205,
   "metadata": {},
   "outputs": [],
   "source": [
    "mode=test_data[\"Length_Employed\"].mode()[0]\n",
    "mode\n",
    "test_data[\"Length_Employed\"].fillna(mode,inplace=True)"
   ]
  },
  {
   "cell_type": "code",
   "execution_count": 206,
   "metadata": {},
   "outputs": [
    {
     "data": {
      "text/plain": [
       "0"
      ]
     },
     "execution_count": 206,
     "metadata": {},
     "output_type": "execute_result"
    }
   ],
   "source": [
    "mode=test_data[\"Home_Owner\"].mode()[0]\n",
    "test_data[\"Home_Owner\"].fillna(mode,inplace=True)\n",
    "test_data[\"Home_Owner\"].isnull().sum()\n"
   ]
  },
  {
   "cell_type": "code",
   "execution_count": 207,
   "metadata": {},
   "outputs": [
    {
     "data": {
      "text/plain": [
       "Mortgage    63636\n",
       "Rent        37511\n",
       "Own          8354\n",
       "Other          40\n",
       "Name: Home_Owner, dtype: int64"
      ]
     },
     "execution_count": 207,
     "metadata": {},
     "output_type": "execute_result"
    }
   ],
   "source": [
    "test_data[\"Home_Owner\"].replace({\"None\":\"Other\"},inplace=True)\n",
    "test_data[\"Home_Owner\"].value_counts()"
   ]
  },
  {
   "cell_type": "code",
   "execution_count": 208,
   "metadata": {},
   "outputs": [],
   "source": [
    "mean=test_data[\"Annual_Income\"].mean()\n",
    "test_data[\"Annual_Income\"].fillna(mean,inplace=True)"
   ]
  },
  {
   "cell_type": "code",
   "execution_count": 209,
   "metadata": {},
   "outputs": [],
   "source": [
    "mean=test_data[\"Months_Since_Deliquency\"].mean()\n",
    "test_data[\"Months_Since_Deliquency\"].fillna(mean,inplace=True)"
   ]
  },
  {
   "cell_type": "code",
   "execution_count": 210,
   "metadata": {},
   "outputs": [
    {
     "data": {
      "text/plain": [
       "Loan_ID                      int64\n",
       "Loan_Amount_Requested       object\n",
       "Length_Employed             object\n",
       "Home_Owner                  object\n",
       "Annual_Income              float64\n",
       "Income_Verified             object\n",
       "Purpose_Of_Loan             object\n",
       "Debt_To_Income             float64\n",
       "Inquiries_Last_6Mo           int64\n",
       "Months_Since_Deliquency    float64\n",
       "Number_Open_Accounts         int64\n",
       "Total_Accounts               int64\n",
       "Gender                      object\n",
       "dtype: object"
      ]
     },
     "execution_count": 210,
     "metadata": {},
     "output_type": "execute_result"
    }
   ],
   "source": [
    "test_data.dtypes"
   ]
  },
  {
   "cell_type": "code",
   "execution_count": 211,
   "metadata": {},
   "outputs": [
    {
     "name": "stdout",
     "output_type": "stream",
     "text": [
      "for object in Length_Employed\n",
      "10+ years    40349\n",
      "2 years       9800\n",
      "3 years       8504\n",
      "< 1 year      8328\n",
      "5 years       7228\n",
      "1 year        6914\n",
      "4 years       6609\n",
      "6 years       6257\n",
      "7 years       6136\n",
      "8 years       5198\n",
      "9 years       4218\n",
      "Name: Length_Employed, dtype: int64\n",
      "###################################\n",
      "for object in Home_Owner\n",
      "Mortgage    63636\n",
      "Rent        37511\n",
      "Own          8354\n",
      "Other          40\n",
      "Name: Home_Owner, dtype: int64\n",
      "###################################\n",
      "for object in Income_Verified\n",
      "VERIFIED - income           39655\n",
      "VERIFIED - income source    35238\n",
      "not verified                34648\n",
      "Name: Income_Verified, dtype: int64\n",
      "###################################\n",
      "for object in Purpose_Of_Loan\n",
      "debt_consolidation    64302\n",
      "credit_card           24710\n",
      "home_improvement       6186\n",
      "other                  5500\n",
      "major_purchase         2277\n",
      "small_business         1672\n",
      "car                    1264\n",
      "medical                1092\n",
      "moving                  701\n",
      "vacation                616\n",
      "house                   543\n",
      "wedding                 517\n",
      "renewable_energy         83\n",
      "educational              78\n",
      "Name: Purpose_Of_Loan, dtype: int64\n",
      "###################################\n",
      "for object in Gender\n",
      "Male      77817\n",
      "Female    31724\n",
      "Name: Gender, dtype: int64\n",
      "###################################\n"
     ]
    }
   ],
   "source": [
    "object=[\"Length_Employed\",\"Home_Owner\",\"Income_Verified\",\"Purpose_Of_Loan\",\"Gender\"]\n",
    "for i in object:\n",
    "    print(\"for object in \"+i)\n",
    "    print(test_data[i].value_counts())\n",
    "    print(\"###################################\")"
   ]
  },
  {
   "cell_type": "code",
   "execution_count": 212,
   "metadata": {},
   "outputs": [
    {
     "data": {
      "text/plain": [
       "verified        74893\n",
       "not verified    34648\n",
       "Name: Income_Verified, dtype: int64"
      ]
     },
     "execution_count": 212,
     "metadata": {},
     "output_type": "execute_result"
    }
   ],
   "source": [
    "test_data[\"Income_Verified\"].replace({\"VERIFIED - income\":\"verified\",\"VERIFIED - income source\":\"verified\"},inplace=True)\n",
    "test_data[\"Income_Verified\"].value_counts()"
   ]
  },
  {
   "cell_type": "code",
   "execution_count": 213,
   "metadata": {},
   "outputs": [
    {
     "name": "stderr",
     "output_type": "stream",
     "text": [
      "D:\\Anaconda\\lib\\site-packages\\ipykernel_launcher.py:5: SettingWithCopyWarning: \n",
      "A value is trying to be set on a copy of a slice from a DataFrame\n",
      "\n",
      "See the caveats in the documentation: https://pandas.pydata.org/pandas-docs/stable/user_guide/indexing.html#returning-a-view-versus-a-copy\n",
      "  \"\"\"\n"
     ]
    }
   ],
   "source": [
    "for i in range(len(test_data)):\n",
    "    token=test_data[\"Loan_Amount_Requested\"][i].split(\",\")\n",
    "    number=\"\"\n",
    "    number=number.join(token)\n",
    "    test_data[\"Loan_Amount_Requested\"][i]=number\n"
   ]
  },
  {
   "cell_type": "code",
   "execution_count": 214,
   "metadata": {},
   "outputs": [],
   "source": [
    "test_data=test_data.astype({\"Loan_Amount_Requested\":\"int\"})"
   ]
  },
  {
   "cell_type": "code",
   "execution_count": 215,
   "metadata": {},
   "outputs": [
    {
     "data": {
      "text/plain": [
       "Loan_ID                    0\n",
       "Loan_Amount_Requested      0\n",
       "Length_Employed            0\n",
       "Home_Owner                 0\n",
       "Annual_Income              0\n",
       "Income_Verified            0\n",
       "Purpose_Of_Loan            0\n",
       "Debt_To_Income             0\n",
       "Inquiries_Last_6Mo         0\n",
       "Months_Since_Deliquency    0\n",
       "Number_Open_Accounts       0\n",
       "Total_Accounts             0\n",
       "Gender                     0\n",
       "dtype: int64"
      ]
     },
     "execution_count": 215,
     "metadata": {},
     "output_type": "execute_result"
    }
   ],
   "source": [
    "test_data.isnull().sum()"
   ]
  },
  {
   "cell_type": "markdown",
   "metadata": {},
   "source": [
    "### Analysis of train_data"
   ]
  },
  {
   "cell_type": "code",
   "execution_count": 216,
   "metadata": {},
   "outputs": [
    {
     "data": {
      "text/plain": [
       "<matplotlib.axes._subplots.AxesSubplot at 0x20d9e01cd08>"
      ]
     },
     "execution_count": 216,
     "metadata": {},
     "output_type": "execute_result"
    },
    {
     "data": {
      "image/png": "[encoded data removed]",
      "text/plain": [
       "<Figure size 432x288 with 1 Axes>"
      ]
     },
     "metadata": {
      "needs_background": "light"
     },
     "output_type": "display_data"
    }
   ],
   "source": [
    "train_data[\"Loan_Amount_Requested\"].plot(kind=\"box\")"
   ]
  },
  {
   "cell_type": "code",
   "execution_count": 217,
   "metadata": {},
   "outputs": [
    {
     "data": {
      "text/plain": [
       "<matplotlib.axes._subplots.AxesSubplot at 0x20d9e026d88>"
      ]
     },
     "execution_count": 217,
     "metadata": {},
     "output_type": "execute_result"
    },
    {
     "data": {
      "image/png": "[encoded data removed]",
      "text/plain": [
       "<Figure size 432x288 with 1 Axes>"
      ]
     },
     "metadata": {
      "needs_background": "light"
     },
     "output_type": "display_data"
    }
   ],
   "source": [
    "train_data[\"Debt_To_Income\"].plot(kind=\"hist\",bins=100)"
   ]
  },
  {
   "cell_type": "code",
   "execution_count": 218,
   "metadata": {},
   "outputs": [],
   "source": [
    "train_data.drop(train_data[train_data[\"Debt_To_Income\"]>35].index,inplace=True)"
   ]
  },
  {
   "cell_type": "code",
   "execution_count": 219,
   "metadata": {},
   "outputs": [
    {
     "data": {
      "text/plain": [
       "<matplotlib.axes._subplots.AxesSubplot at 0x20d9e08e9c8>"
      ]
     },
     "execution_count": 219,
     "metadata": {},
     "output_type": "execute_result"
    },
    {
     "data": {
      "image/png": "[encoded data removed]",
      "text/plain": [
       "<Figure size 432x288 with 1 Axes>"
      ]
     },
     "metadata": {
      "needs_background": "light"
     },
     "output_type": "display_data"
    }
   ],
   "source": [
    "train_data[\"Annual_Income\"].plot(kind=\"hist\")"
   ]
  },
  {
   "cell_type": "code",
   "execution_count": 220,
   "metadata": {},
   "outputs": [
    {
     "data": {
      "text/plain": [
       "(41675, 14)"
      ]
     },
     "execution_count": 220,
     "metadata": {},
     "output_type": "execute_result"
    }
   ],
   "source": [
    "train_data[train_data[\"Annual_Income\"]<50000].shape"
   ]
  },
  {
   "cell_type": "code",
   "execution_count": 221,
   "metadata": {},
   "outputs": [],
   "source": [
    "bin=[0,100000,500000,10000000]\n",
    "label=[\"less than 100k\",\"100k-500k\",\"500k-1000k\"]\n",
    "train_data[\"Annual_Income\"]=pd.cut(train_data[\"Annual_Income\"],bins=bin,labels=label)"
   ]
  },
  {
   "cell_type": "code",
   "execution_count": 222,
   "metadata": {},
   "outputs": [
    {
     "data": {
      "text/plain": [
       "0         less than 100k\n",
       "1         less than 100k\n",
       "2         less than 100k\n",
       "3         less than 100k\n",
       "4         less than 100k\n",
       "               ...      \n",
       "164304    less than 100k\n",
       "164305    less than 100k\n",
       "164306    less than 100k\n",
       "164307    less than 100k\n",
       "164308    less than 100k\n",
       "Name: Annual_Income, Length: 163032, dtype: category\n",
       "Categories (3, object): [less than 100k < 100k-500k < 500k-1000k]"
      ]
     },
     "execution_count": 222,
     "metadata": {},
     "output_type": "execute_result"
    }
   ],
   "source": [
    "train_data[\"Annual_Income\"]"
   ]
  },
  {
   "cell_type": "code",
   "execution_count": 223,
   "metadata": {},
   "outputs": [],
   "source": [
    "train_data=train_data.astype({\"Inquiries_Last_6Mo\":\"str\",\"Months_Since_Deliquency\":\"str\",\"Number_Open_Accounts\":\"str\",\"Number_Open_Accounts\":\"str\"})"
   ]
  },
  {
   "cell_type": "code",
   "execution_count": 232,
   "metadata": {},
   "outputs": [
    {
     "data": {
      "text/plain": [
       "CategoricalDtype(categories=['less than 100k', '100k-500k', '500k-1000k'], ordered=True)"
      ]
     },
     "execution_count": 232,
     "metadata": {},
     "output_type": "execute_result"
    }
   ],
   "source": [
    "train_data[\"Annual_Income\"].dtypes"
   ]
  },
  {
   "cell_type": "code",
   "execution_count": 233,
   "metadata": {},
   "outputs": [],
   "source": [
    "train_data.drop(train_data[train_data[\"Annual_Income\"]==\"500k-1000k\"].index,inplace=True)"
   ]
  },
  {
   "cell_type": "code",
   "execution_count": 234,
   "metadata": {},
   "outputs": [
    {
     "data": {
      "text/plain": [
       "<matplotlib.axes._subplots.AxesSubplot at 0x20d9e064748>"
      ]
     },
     "execution_count": 234,
     "metadata": {},
     "output_type": "execute_result"
    },
    {
     "data": {
      "image/png": "[encoded data removed]",
      "text/plain": [
       "<Figure size 432x288 with 1 Axes>"
      ]
     },
     "metadata": {
      "needs_background": "light"
     },
     "output_type": "display_data"
    }
   ],
   "source": [
    "train_data[\"Annual_Income\"].value_counts().plot(kind=\"bar\")"
   ]
  },
  {
   "cell_type": "code",
   "execution_count": 231,
   "metadata": {},
   "outputs": [
    {
     "data": {
      "text/plain": [
       "less than 100k    139876\n",
       "100k-500k          23026\n",
       "500k-1000k             0\n",
       "Name: Annual_Income, dtype: int64"
      ]
     },
     "execution_count": 231,
     "metadata": {},
     "output_type": "execute_result"
    }
   ],
   "source": [
    "train_data[\"Annual_Income\"].value_counts()"
   ]
  },
  {
   "cell_type": "code",
   "execution_count": 235,
   "metadata": {},
   "outputs": [
    {
     "data": {
      "text/plain": [
       "Loan_ID                       int64\n",
       "Loan_Amount_Requested         int32\n",
       "Length_Employed              object\n",
       "Home_Owner                   object\n",
       "Annual_Income              category\n",
       "Income_Verified              object\n",
       "Purpose_Of_Loan              object\n",
       "Debt_To_Income              float64\n",
       "Inquiries_Last_6Mo           object\n",
       "Months_Since_Deliquency      object\n",
       "Number_Open_Accounts         object\n",
       "Total_Accounts                int64\n",
       "Gender                       object\n",
       "Interest_Rate                 int64\n",
       "dtype: object"
      ]
     },
     "execution_count": 235,
     "metadata": {},
     "output_type": "execute_result"
    }
   ],
   "source": [
    "train_data.dtypes"
   ]
  },
  {
   "cell_type": "code",
   "execution_count": 236,
   "metadata": {},
   "outputs": [
    {
     "data": {
      "text/plain": [
       "<matplotlib.axes._subplots.AxesSubplot at 0x20d9d92a088>"
      ]
     },
     "execution_count": 236,
     "metadata": {},
     "output_type": "execute_result"
    },
    {
     "data": {
      "image/png": "[encoded data removed]",
      "text/plain": [
       "<Figure size 432x288 with 1 Axes>"
      ]
     },
     "metadata": {
      "needs_background": "light"
     },
     "output_type": "display_data"
    }
   ],
   "source": [
    "train_data[\"Inquiries_Last_6Mo\"].value_counts().plot(kind=\"bar\")"
   ]
  },
  {
   "cell_type": "code",
   "execution_count": 242,
   "metadata": {},
   "outputs": [
    {
     "data": {
      "text/plain": [
       "9     15671\n",
       "10    14807\n",
       "8     14585\n",
       "11    13605\n",
       "7     13226\n",
       "12    12197\n",
       "6     10788\n",
       "13    10244\n",
       "14     8521\n",
       "5      7566\n",
       "15     7064\n",
       "16     5869\n",
       "17     4610\n",
       "4      4418\n",
       "18     3796\n",
       "19     3023\n",
       "20     2329\n",
       "3      1890\n",
       "21     1798\n",
       "22     1421\n",
       "23     1118\n",
       "24      884\n",
       "25      665\n",
       "2       644\n",
       "26      496\n",
       "27      373\n",
       "28      282\n",
       "29      215\n",
       "30      163\n",
       "31      131\n",
       "32       89\n",
       "33       76\n",
       "34       61\n",
       "36       49\n",
       "35       47\n",
       "37       33\n",
       "1        31\n",
       "38       23\n",
       "39       22\n",
       "42       12\n",
       "40       12\n",
       "41       10\n",
       "43        7\n",
       "58        4\n",
       "44        3\n",
       "50        3\n",
       "45        3\n",
       "47        3\n",
       "49        3\n",
       "53        2\n",
       "0         2\n",
       "48        2\n",
       "46        1\n",
       "76        1\n",
       "62        1\n",
       "52        1\n",
       "54        1\n",
       "51        1\n",
       "Name: Number_Open_Accounts, dtype: int64"
      ]
     },
     "execution_count": 242,
     "metadata": {},
     "output_type": "execute_result"
    }
   ],
   "source": [
    "train_data[\"Number_Open_Accounts\"].value_counts()"
   ]
  },
  {
   "cell_type": "code",
   "execution_count": 243,
   "metadata": {},
   "outputs": [
    {
     "data": {
      "text/plain": [
       "21     6088\n",
       "22     6050\n",
       "20     5946\n",
       "18     5940\n",
       "19     5906\n",
       "       ... \n",
       "156       1\n",
       "97        1\n",
       "92        1\n",
       "105       1\n",
       "116       1\n",
       "Name: Total_Accounts, Length: 100, dtype: int64"
      ]
     },
     "execution_count": 243,
     "metadata": {},
     "output_type": "execute_result"
    }
   ],
   "source": [
    "train_data[\"Total_Accounts\"].value_counts()"
   ]
  },
  {
   "cell_type": "code",
   "execution_count": null,
   "metadata": {},
   "outputs": [],
   "source": []
  }
 ],
 "metadata": {
  "kernelspec": {
   "display_name": "Python 3",
   "language": "python",
   "name": "python3"
  },
  "language_info": {
   "codemirror_mode": {
    "name": "ipython",
    "version": 3
   },
   "file_extension": ".py",
   "mimetype": "text/x-python",
   "name": "python",
   "nbconvert_exporter": "python",
   "pygments_lexer": "ipython3",
   "version": "3.7.6"
  }
 },
 "nbformat": 4,
 "nbformat_minor": 4
}
