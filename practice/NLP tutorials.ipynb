{
 "cells": [
  {
   "cell_type": "markdown",
   "metadata": {},
   "source": [
    "Regular expression"
   ]
  },
  {
   "cell_type": "code",
   "execution_count": 4,
   "metadata": {},
   "outputs": [
    {
     "name": "stdout",
     "output_type": "stream",
     "text": [
      "None\n"
     ]
    }
   ],
   "source": [
    "import re\n",
    "string=\"tiger is national animal\"\n",
    "pattern=\"lion\"\n",
    "mo=re.match(pattern,string)\n",
    "print(mo)"
   ]
  },
  {
   "cell_type": "markdown",
   "metadata": {},
   "source": [
    "re.match  only searches at the begining os the string so if we need to search in all we use re.search"
   ]
  },
  {
   "cell_type": "code",
   "execution_count": 11,
   "metadata": {},
   "outputs": [
    {
     "name": "stdout",
     "output_type": "stream",
     "text": [
      "<re.Match object; span=(9, 17), match='national'>\n",
      "national\n"
     ]
    }
   ],
   "source": [
    "pattern=\"national\"\n",
    "mo=re.search(pattern,string)\n",
    "print(mo)\n",
    "print(mo.group(0))"
   ]
  },
  {
   "cell_type": "markdown",
   "metadata": {},
   "source": [
    "to search if the word is present more tha oone time we use re.findall"
   ]
  },
  {
   "cell_type": "code",
   "execution_count": 16,
   "metadata": {},
   "outputs": [
    {
     "name": "stdout",
     "output_type": "stream",
     "text": [
      "['national', 'national']\n"
     ]
    }
   ],
   "source": [
    "string=\"tiger is national animal and national sport is hockey\"\n",
    "pattern=\"national\"\n",
    "mo=re.findall(pattern,string)\n",
    "print(mo)"
   ]
  },
  {
   "cell_type": "markdown",
   "metadata": {},
   "source": [
    "if we need to find where the word is present we use finditer"
   ]
  },
  {
   "cell_type": "code",
   "execution_count": 20,
   "metadata": {},
   "outputs": [
    {
     "name": "stdout",
     "output_type": "stream",
     "text": [
      "9\n",
      "29\n"
     ]
    }
   ],
   "source": [
    "mo=re.finditer(pattern,string)\n",
    "#mo is the list now\n",
    "for m in mo:\n",
    "    print(m.start())"
   ]
  },
  {
   "cell_type": "code",
   "execution_count": 21,
   "metadata": {},
   "outputs": [
    {
     "name": "stdout",
     "output_type": "stream",
     "text": [
      "['16-04-1998', '16-04-2002']\n"
     ]
    }
   ],
   "source": [
    "string=\"Ron was born in 16-04-1998 and was admitted in school in 16-04-2002\"\n",
    "pattern=\"\\d{2}-\\d{2}-\\d{4}\"\n",
    "mo=re.findall(pattern,string)\n",
    "print(mo)"
   ]
  },
  {
   "cell_type": "markdown",
   "metadata": {},
   "source": [
    "if we need to replace the string with some thing than we use re.sub"
   ]
  },
  {
   "cell_type": "code",
   "execution_count": 22,
   "metadata": {},
   "outputs": [
    {
     "name": "stdout",
     "output_type": "stream",
     "text": [
      "Ron was born in Monday and was admitted in school in Monday\n"
     ]
    }
   ],
   "source": [
    "string=re.sub(pattern,\"Monday\",string)\n",
    "print(string)"
   ]
  },
  {
   "cell_type": "markdown",
   "metadata": {},
   "source": [
    "Using NLTK"
   ]
  },
  {
   "cell_type": "code",
   "execution_count": 27,
   "metadata": {},
   "outputs": [
    {
     "data": {
      "text/plain": [
       "['Hey this is praveen kumar.', 'How are you?', 'Is everthing OK?']"
      ]
     },
     "execution_count": 27,
     "metadata": {},
     "output_type": "execute_result"
    }
   ],
   "source": [
    "from nltk.tokenize import sent_tokenize,word_tokenize\n",
    "text=\"Hey this is praveen kumar. How are you? Is everthing OK?\"\n",
    "word_tokenize(text)\n",
    "sent_tokenize(text)"
   ]
  },
  {
   "cell_type": "code",
   "execution_count": 29,
   "metadata": {},
   "outputs": [
    {
     "name": "stdout",
     "output_type": "stream",
     "text": [
      "play\n",
      "play\n",
      "play\n",
      "increas\n"
     ]
    }
   ],
   "source": [
    "from nltk.stem import PorterStemmer\n",
    "stemmer=PorterStemmer()\n",
    "print(stemmer.stem(\"playing\"))\n",
    "print(stemmer.stem(\"plays\"))\n",
    "print(stemmer.stem(\"played\"))\n",
    "print(stemmer.stem(\"increase\"))"
   ]
  },
  {
   "cell_type": "code",
   "execution_count": 33,
   "metadata": {},
   "outputs": [
    {
     "name": "stdout",
     "output_type": "stream",
     "text": [
      "increase\n",
      "run\n"
     ]
    }
   ],
   "source": [
    "from nltk.stem import WordNetLemmatizer\n",
    "lemma=WordNetLemmatizer()\n",
    "print(lemma.lemmatize(\"increases\"))\n",
    "print(lemma.lemmatize(\"running\",pos=\"v\"))"
   ]
  },
  {
   "cell_type": "code",
   "execution_count": 34,
   "metadata": {},
   "outputs": [
    {
     "data": {
      "text/plain": [
       "[('Hey', 'NNP'),\n",
       " ('this', 'DT'),\n",
       " ('is', 'VBZ'),\n",
       " ('praveen', 'JJ'),\n",
       " ('kumar', 'NN'),\n",
       " ('.', '.'),\n",
       " ('How', 'WRB'),\n",
       " ('are', 'VBP'),\n",
       " ('you', 'PRP'),\n",
       " ('?', '.'),\n",
       " ('Is', 'VBZ'),\n",
       " ('everthing', 'VBG'),\n",
       " ('OK', 'NNP'),\n",
       " ('?', '.')]"
      ]
     },
     "execution_count": 34,
     "metadata": {},
     "output_type": "execute_result"
    }
   ],
   "source": [
    "from nltk import pos_tag\n",
    "token=word_tokenize(text)\n",
    "pos_tag(token)"
   ]
  },
  {
   "cell_type": "code",
   "execution_count": 38,
   "metadata": {},
   "outputs": [
    {
     "data": {
      "text/plain": [
       "[Synset('best.n.01'),\n",
       " Synset('best.n.02'),\n",
       " Synset('best.n.03'),\n",
       " Synset('outdo.v.02'),\n",
       " Synset('best.a.01'),\n",
       " Synset('better.s.03'),\n",
       " Synset('good.a.01'),\n",
       " Synset('full.s.06'),\n",
       " Synset('good.a.03'),\n",
       " Synset('estimable.s.02'),\n",
       " Synset('beneficial.s.01'),\n",
       " Synset('good.s.06'),\n",
       " Synset('good.s.07'),\n",
       " Synset('adept.s.01'),\n",
       " Synset('good.s.09'),\n",
       " Synset('dear.s.02'),\n",
       " Synset('dependable.s.04'),\n",
       " Synset('good.s.12'),\n",
       " Synset('good.s.13'),\n",
       " Synset('effective.s.04'),\n",
       " Synset('good.s.15'),\n",
       " Synset('good.s.16'),\n",
       " Synset('good.s.17'),\n",
       " Synset('good.s.18'),\n",
       " Synset('good.s.19'),\n",
       " Synset('good.s.20'),\n",
       " Synset('good.s.21'),\n",
       " Synset('best.r.01'),\n",
       " Synset('best.r.02'),\n",
       " Synset('better.r.02'),\n",
       " Synset('well.r.01'),\n",
       " Synset('well.r.02'),\n",
       " Synset('well.r.03'),\n",
       " Synset('well.r.04'),\n",
       " Synset('well.r.05'),\n",
       " Synset('well.r.06'),\n",
       " Synset('well.r.07'),\n",
       " Synset('well.r.08'),\n",
       " Synset('well.r.09'),\n",
       " Synset('well.r.10'),\n",
       " Synset('well.r.11'),\n",
       " Synset('well.r.12'),\n",
       " Synset('well.r.13')]"
      ]
     },
     "execution_count": 38,
     "metadata": {},
     "output_type": "execute_result"
    }
   ],
   "source": [
    "from nltk.corpus import wordnet\n",
    "wordnet.synsets(\"best\")"
   ]
  },
  {
   "cell_type": "code",
   "execution_count": 41,
   "metadata": {},
   "outputs": [
    {
     "name": "stdout",
     "output_type": "stream",
     "text": [
      "('Hey', 'this')\n",
      "('this', 'is')\n",
      "('is', 'praveen')\n",
      "('praveen', 'kumar')\n",
      "('kumar', '.')\n",
      "('.', 'How')\n",
      "('How', 'are')\n",
      "('are', 'you')\n",
      "('you', '?')\n",
      "('?', 'Is')\n",
      "('Is', 'everthing')\n",
      "('everthing', 'OK')\n",
      "('OK', '?')\n"
     ]
    }
   ],
   "source": [
    "from nltk import ngrams\n",
    "for i in ngrams(token,2):\n",
    "    print(i)"
   ]
  },
  {
   "cell_type": "code",
   "execution_count": null,
   "metadata": {},
   "outputs": [],
   "source": []
  }
 ],
 "metadata": {
  "kernelspec": {
   "display_name": "Python 3",
   "language": "python",
   "name": "python3"
  },
  "language_info": {
   "codemirror_mode": {
    "name": "ipython",
    "version": 3
   },
   "file_extension": ".py",
   "mimetype": "text/x-python",
   "name": "python",
   "nbconvert_exporter": "python",
   "pygments_lexer": "ipython3",
   "version": "3.7.6"
  }
 },
 "nbformat": 4,
 "nbformat_minor": 4
}
